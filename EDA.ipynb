{
 "cells": [
  {
   "cell_type": "code",
   "execution_count": 36,
   "metadata": {
    "collapsed": true
   },
   "outputs": [],
   "source": [
    "import pandas as pd\n",
    "import matplotlib.pyplot as plt\n",
    "%matplotlib inline"
   ]
  },
  {
   "cell_type": "code",
   "execution_count": 2,
   "metadata": {
    "collapsed": false
   },
   "outputs": [
    {
     "name": "stdout",
     "output_type": "stream",
     "text": [
      "Taxi_Trips.csv\r\n"
     ]
    }
   ],
   "source": [
    "ls data"
   ]
  },
  {
   "cell_type": "code",
   "execution_count": 3,
   "metadata": {
    "collapsed": true
   },
   "outputs": [],
   "source": [
    "df = pd.read_csv('data/Taxi_Trips.csv')"
   ]
  },
  {
   "cell_type": "code",
   "execution_count": 4,
   "metadata": {
    "collapsed": false
   },
   "outputs": [
    {
     "name": "stdout",
     "output_type": "stream",
     "text": [
      "<class 'pandas.core.frame.DataFrame'>\n",
      "RangeIndex: 5516448 entries, 0 to 5516447\n",
      "Data columns (total 15 columns):\n",
      "Trip ID                   object\n",
      "Taxi ID                   object\n",
      "Trip Start Timestamp      object\n",
      "Trip End Timestamp        object\n",
      "Trip Seconds              float64\n",
      "Trip Miles                float64\n",
      "Pickup Community Area     int64\n",
      "Dropoff Community Area    float64\n",
      "Fare                      object\n",
      "Tips                      object\n",
      "Tolls                     object\n",
      "Extras                    object\n",
      "Trip Total                object\n",
      "Payment Type              object\n",
      "Company                   object\n",
      "dtypes: float64(3), int64(1), object(11)\n",
      "memory usage: 631.3+ MB\n"
     ]
    }
   ],
   "source": [
    "df.info()"
   ]
  },
  {
   "cell_type": "code",
   "execution_count": 7,
   "metadata": {
    "collapsed": true
   },
   "outputs": [],
   "source": [
    "df.columns = [c.lower().replace(' ', '_') for c in df.columns]"
   ]
  },
  {
   "cell_type": "code",
   "execution_count": 8,
   "metadata": {
    "collapsed": false
   },
   "outputs": [
    {
     "data": {
      "text/plain": [
       "Index(['trip_id', 'taxi_id', 'trip_start_timestamp', 'trip_end_timestamp',\n",
       "       'trip_seconds', 'trip_miles', 'pickup_community_area',\n",
       "       'dropoff_community_area', 'fare', 'tips', 'tolls', 'extras',\n",
       "       'trip_total', 'payment_type', 'company'],\n",
       "      dtype='object')"
      ]
     },
     "execution_count": 8,
     "metadata": {},
     "output_type": "execute_result"
    }
   ],
   "source": [
    "df.columns"
   ]
  },
  {
   "cell_type": "code",
   "execution_count": 9,
   "metadata": {
    "collapsed": false
   },
   "outputs": [
    {
     "data": {
      "text/plain": [
       "trip_id                         0\n",
       "taxi_id                       887\n",
       "trip_start_timestamp            0\n",
       "trip_end_timestamp              0\n",
       "trip_seconds                  107\n",
       "trip_miles                      0\n",
       "pickup_community_area           0\n",
       "dropoff_community_area     187247\n",
       "fare                            1\n",
       "tips                            1\n",
       "tolls                           1\n",
       "extras                          1\n",
       "trip_total                      1\n",
       "payment_type                    0\n",
       "company                   2459242\n",
       "dtype: int64"
      ]
     },
     "execution_count": 9,
     "metadata": {},
     "output_type": "execute_result"
    }
   ],
   "source": [
    "df.isnull().sum()"
   ]
  },
  {
   "cell_type": "code",
   "execution_count": 10,
   "metadata": {
    "collapsed": false
   },
   "outputs": [
    {
     "data": {
      "text/html": [
       "<div>\n",
       "<table border=\"1\" class=\"dataframe\">\n",
       "  <thead>\n",
       "    <tr style=\"text-align: right;\">\n",
       "      <th></th>\n",
       "      <th>trip_seconds</th>\n",
       "      <th>trip_miles</th>\n",
       "      <th>pickup_community_area</th>\n",
       "      <th>dropoff_community_area</th>\n",
       "    </tr>\n",
       "  </thead>\n",
       "  <tbody>\n",
       "    <tr>\n",
       "      <th>trip_seconds</th>\n",
       "      <td>1.000000</td>\n",
       "      <td>0.193383</td>\n",
       "      <td>0.470823</td>\n",
       "      <td>0.291811</td>\n",
       "    </tr>\n",
       "    <tr>\n",
       "      <th>trip_miles</th>\n",
       "      <td>0.193383</td>\n",
       "      <td>1.000000</td>\n",
       "      <td>0.141257</td>\n",
       "      <td>0.086233</td>\n",
       "    </tr>\n",
       "    <tr>\n",
       "      <th>pickup_community_area</th>\n",
       "      <td>0.470823</td>\n",
       "      <td>0.141257</td>\n",
       "      <td>1.000000</td>\n",
       "      <td>-0.000912</td>\n",
       "    </tr>\n",
       "    <tr>\n",
       "      <th>dropoff_community_area</th>\n",
       "      <td>0.291811</td>\n",
       "      <td>0.086233</td>\n",
       "      <td>-0.000912</td>\n",
       "      <td>1.000000</td>\n",
       "    </tr>\n",
       "  </tbody>\n",
       "</table>\n",
       "</div>"
      ],
      "text/plain": [
       "                        trip_seconds  trip_miles  pickup_community_area  \\\n",
       "trip_seconds                1.000000    0.193383               0.470823   \n",
       "trip_miles                  0.193383    1.000000               0.141257   \n",
       "pickup_community_area       0.470823    0.141257               1.000000   \n",
       "dropoff_community_area      0.291811    0.086233              -0.000912   \n",
       "\n",
       "                        dropoff_community_area  \n",
       "trip_seconds                          0.291811  \n",
       "trip_miles                            0.086233  \n",
       "pickup_community_area                -0.000912  \n",
       "dropoff_community_area                1.000000  "
      ]
     },
     "execution_count": 10,
     "metadata": {},
     "output_type": "execute_result"
    }
   ],
   "source": [
    "df.corr()"
   ]
  },
  {
   "cell_type": "code",
   "execution_count": 11,
   "metadata": {
    "collapsed": false
   },
   "outputs": [
    {
     "data": {
      "text/html": [
       "<div>\n",
       "<table border=\"1\" class=\"dataframe\">\n",
       "  <thead>\n",
       "    <tr style=\"text-align: right;\">\n",
       "      <th></th>\n",
       "      <th>trip_id</th>\n",
       "      <th>taxi_id</th>\n",
       "      <th>trip_start_timestamp</th>\n",
       "      <th>trip_end_timestamp</th>\n",
       "      <th>trip_seconds</th>\n",
       "      <th>trip_miles</th>\n",
       "      <th>pickup_community_area</th>\n",
       "      <th>dropoff_community_area</th>\n",
       "      <th>fare</th>\n",
       "      <th>tips</th>\n",
       "      <th>tolls</th>\n",
       "      <th>extras</th>\n",
       "      <th>trip_total</th>\n",
       "      <th>payment_type</th>\n",
       "      <th>company</th>\n",
       "    </tr>\n",
       "  </thead>\n",
       "  <tbody>\n",
       "    <tr>\n",
       "      <th>1538902</th>\n",
       "      <td>8935a6c78bdb3052292b921a2445c97af0dc06bd</td>\n",
       "      <td>bbe269b05eeac2abb17fea3c531aaa9c65b92e40c832dc...</td>\n",
       "      <td>06/07/2016 11:45:00 AM</td>\n",
       "      <td>06/07/2016 11:45:00 AM</td>\n",
       "      <td>120.0</td>\n",
       "      <td>100.0</td>\n",
       "      <td>15</td>\n",
       "      <td>15.0</td>\n",
       "      <td>NaN</td>\n",
       "      <td>NaN</td>\n",
       "      <td>NaN</td>\n",
       "      <td>NaN</td>\n",
       "      <td>NaN</td>\n",
       "      <td>Credit Card</td>\n",
       "      <td>NaN</td>\n",
       "    </tr>\n",
       "  </tbody>\n",
       "</table>\n",
       "</div>"
      ],
      "text/plain": [
       "                                          trip_id  \\\n",
       "1538902  8935a6c78bdb3052292b921a2445c97af0dc06bd   \n",
       "\n",
       "                                                   taxi_id  \\\n",
       "1538902  bbe269b05eeac2abb17fea3c531aaa9c65b92e40c832dc...   \n",
       "\n",
       "           trip_start_timestamp      trip_end_timestamp  trip_seconds  \\\n",
       "1538902  06/07/2016 11:45:00 AM  06/07/2016 11:45:00 AM         120.0   \n",
       "\n",
       "         trip_miles  pickup_community_area  dropoff_community_area fare tips  \\\n",
       "1538902       100.0                     15                    15.0  NaN  NaN   \n",
       "\n",
       "        tolls extras trip_total payment_type company  \n",
       "1538902   NaN    NaN        NaN  Credit Card     NaN  "
      ]
     },
     "execution_count": 11,
     "metadata": {},
     "output_type": "execute_result"
    }
   ],
   "source": [
    "df[df.tips.isnull()]"
   ]
  },
  {
   "cell_type": "code",
   "execution_count": 14,
   "metadata": {
    "collapsed": false
   },
   "outputs": [],
   "source": [
    "df.dropna(subset=['fare'], inplace=True)"
   ]
  },
  {
   "cell_type": "code",
   "execution_count": 15,
   "metadata": {
    "collapsed": false
   },
   "outputs": [
    {
     "name": "stdout",
     "output_type": "stream",
     "text": [
      "<class 'pandas.core.frame.DataFrame'>\n",
      "Int64Index: 5516447 entries, 0 to 5516447\n",
      "Data columns (total 15 columns):\n",
      "trip_id                   object\n",
      "taxi_id                   object\n",
      "trip_start_timestamp      object\n",
      "trip_end_timestamp        object\n",
      "trip_seconds              float64\n",
      "trip_miles                float64\n",
      "pickup_community_area     int64\n",
      "dropoff_community_area    float64\n",
      "fare                      object\n",
      "tips                      object\n",
      "tolls                     object\n",
      "extras                    object\n",
      "trip_total                object\n",
      "payment_type              object\n",
      "company                   object\n",
      "dtypes: float64(3), int64(1), object(11)\n",
      "memory usage: 673.4+ MB\n"
     ]
    }
   ],
   "source": [
    "df.info()"
   ]
  },
  {
   "cell_type": "code",
   "execution_count": 17,
   "metadata": {
    "collapsed": false
   },
   "outputs": [
    {
     "data": {
      "text/html": [
       "<div>\n",
       "<table border=\"1\" class=\"dataframe\">\n",
       "  <thead>\n",
       "    <tr style=\"text-align: right;\">\n",
       "      <th></th>\n",
       "      <th>trip_id</th>\n",
       "      <th>taxi_id</th>\n",
       "      <th>trip_start_timestamp</th>\n",
       "      <th>trip_end_timestamp</th>\n",
       "      <th>trip_seconds</th>\n",
       "      <th>trip_miles</th>\n",
       "      <th>pickup_community_area</th>\n",
       "      <th>dropoff_community_area</th>\n",
       "      <th>fare</th>\n",
       "      <th>tips</th>\n",
       "      <th>tolls</th>\n",
       "      <th>extras</th>\n",
       "      <th>trip_total</th>\n",
       "      <th>payment_type</th>\n",
       "      <th>company</th>\n",
       "    </tr>\n",
       "  </thead>\n",
       "  <tbody>\n",
       "    <tr>\n",
       "      <th>0</th>\n",
       "      <td>0171ea69627693e2cef3fa233a88f7b822056cf7</td>\n",
       "      <td>718e14c3dcea2b17d67bf6277da06c7402e1435c96b460...</td>\n",
       "      <td>07/19/2016 07:15:00 PM</td>\n",
       "      <td>07/19/2016 08:15:00 PM</td>\n",
       "      <td>2880.0</td>\n",
       "      <td>1.1</td>\n",
       "      <td>76</td>\n",
       "      <td>8.0</td>\n",
       "      <td>$46.00</td>\n",
       "      <td>$8.00</td>\n",
       "      <td>$0.00</td>\n",
       "      <td>$5.00</td>\n",
       "      <td>$59.00</td>\n",
       "      <td>Credit Card</td>\n",
       "      <td>Taxi Affiliation Services</td>\n",
       "    </tr>\n",
       "    <tr>\n",
       "      <th>1</th>\n",
       "      <td>0171ef157f8e29d82ba0429536ceba31e355a6bc</td>\n",
       "      <td>f80bb6e887a18028617ef0e0861429d12762cfd858bcbc...</td>\n",
       "      <td>05/08/2016 05:45:00 PM</td>\n",
       "      <td>05/08/2016 06:30:00 PM</td>\n",
       "      <td>2040.0</td>\n",
       "      <td>16.3</td>\n",
       "      <td>76</td>\n",
       "      <td>8.0</td>\n",
       "      <td>$39.25</td>\n",
       "      <td>$10.81</td>\n",
       "      <td>$0.00</td>\n",
       "      <td>$4.00</td>\n",
       "      <td>$54.56</td>\n",
       "      <td>Credit Card</td>\n",
       "      <td>NaN</td>\n",
       "    </tr>\n",
       "    <tr>\n",
       "      <th>2</th>\n",
       "      <td>0171ef8a43930d0824d2180ad3911b2256aae41d</td>\n",
       "      <td>40aed61177db25fbb6eea25b46c3f674ddbd7d42d93e6f...</td>\n",
       "      <td>05/26/2016 05:00:00 PM</td>\n",
       "      <td>05/26/2016 05:15:00 PM</td>\n",
       "      <td>600.0</td>\n",
       "      <td>1.4</td>\n",
       "      <td>32</td>\n",
       "      <td>8.0</td>\n",
       "      <td>$7.50</td>\n",
       "      <td>$2.00</td>\n",
       "      <td>$0.00</td>\n",
       "      <td>$0.00</td>\n",
       "      <td>$9.50</td>\n",
       "      <td>Credit Card</td>\n",
       "      <td>Dispatch Taxi Affiliation</td>\n",
       "    </tr>\n",
       "    <tr>\n",
       "      <th>3</th>\n",
       "      <td>0171f00f1e267a4eb7b673002222d385928df7ce</td>\n",
       "      <td>fdc3156afe8accb70f5aea5f2cd2d7cefd089d13b6d930...</td>\n",
       "      <td>09/29/2016 06:30:00 PM</td>\n",
       "      <td>09/29/2016 06:45:00 PM</td>\n",
       "      <td>1260.0</td>\n",
       "      <td>0.4</td>\n",
       "      <td>32</td>\n",
       "      <td>3.0</td>\n",
       "      <td>$21.00</td>\n",
       "      <td>$4.20</td>\n",
       "      <td>$0.00</td>\n",
       "      <td>$0.00</td>\n",
       "      <td>$25.20</td>\n",
       "      <td>Credit Card</td>\n",
       "      <td>Taxi Affiliation Services</td>\n",
       "    </tr>\n",
       "    <tr>\n",
       "      <th>4</th>\n",
       "      <td>0171f8dab9ce4d3b52fc0aaca11454cb67d3eba4</td>\n",
       "      <td>0aafa031f499a377150605b9f9c94c933ce52cabc6e43d...</td>\n",
       "      <td>06/18/2016 09:30:00 AM</td>\n",
       "      <td>06/18/2016 10:00:00 AM</td>\n",
       "      <td>1560.0</td>\n",
       "      <td>17.7</td>\n",
       "      <td>8</td>\n",
       "      <td>76.0</td>\n",
       "      <td>$43.75</td>\n",
       "      <td>$9.85</td>\n",
       "      <td>$0.00</td>\n",
       "      <td>$5.00</td>\n",
       "      <td>$59.10</td>\n",
       "      <td>Credit Card</td>\n",
       "      <td>NaN</td>\n",
       "    </tr>\n",
       "  </tbody>\n",
       "</table>\n",
       "</div>"
      ],
      "text/plain": [
       "                                    trip_id  \\\n",
       "0  0171ea69627693e2cef3fa233a88f7b822056cf7   \n",
       "1  0171ef157f8e29d82ba0429536ceba31e355a6bc   \n",
       "2  0171ef8a43930d0824d2180ad3911b2256aae41d   \n",
       "3  0171f00f1e267a4eb7b673002222d385928df7ce   \n",
       "4  0171f8dab9ce4d3b52fc0aaca11454cb67d3eba4   \n",
       "\n",
       "                                             taxi_id    trip_start_timestamp  \\\n",
       "0  718e14c3dcea2b17d67bf6277da06c7402e1435c96b460...  07/19/2016 07:15:00 PM   \n",
       "1  f80bb6e887a18028617ef0e0861429d12762cfd858bcbc...  05/08/2016 05:45:00 PM   \n",
       "2  40aed61177db25fbb6eea25b46c3f674ddbd7d42d93e6f...  05/26/2016 05:00:00 PM   \n",
       "3  fdc3156afe8accb70f5aea5f2cd2d7cefd089d13b6d930...  09/29/2016 06:30:00 PM   \n",
       "4  0aafa031f499a377150605b9f9c94c933ce52cabc6e43d...  06/18/2016 09:30:00 AM   \n",
       "\n",
       "       trip_end_timestamp  trip_seconds  trip_miles  pickup_community_area  \\\n",
       "0  07/19/2016 08:15:00 PM        2880.0         1.1                     76   \n",
       "1  05/08/2016 06:30:00 PM        2040.0        16.3                     76   \n",
       "2  05/26/2016 05:15:00 PM         600.0         1.4                     32   \n",
       "3  09/29/2016 06:45:00 PM        1260.0         0.4                     32   \n",
       "4  06/18/2016 10:00:00 AM        1560.0        17.7                      8   \n",
       "\n",
       "   dropoff_community_area    fare    tips  tolls extras trip_total  \\\n",
       "0                     8.0  $46.00   $8.00  $0.00  $5.00     $59.00   \n",
       "1                     8.0  $39.25  $10.81  $0.00  $4.00     $54.56   \n",
       "2                     8.0   $7.50   $2.00  $0.00  $0.00      $9.50   \n",
       "3                     3.0  $21.00   $4.20  $0.00  $0.00     $25.20   \n",
       "4                    76.0  $43.75   $9.85  $0.00  $5.00     $59.10   \n",
       "\n",
       "  payment_type                    company  \n",
       "0  Credit Card  Taxi Affiliation Services  \n",
       "1  Credit Card                        NaN  \n",
       "2  Credit Card  Dispatch Taxi Affiliation  \n",
       "3  Credit Card  Taxi Affiliation Services  \n",
       "4  Credit Card                        NaN  "
      ]
     },
     "execution_count": 17,
     "metadata": {},
     "output_type": "execute_result"
    }
   ],
   "source": [
    "df.head(5)"
   ]
  },
  {
   "cell_type": "code",
   "execution_count": 19,
   "metadata": {
    "collapsed": false
   },
   "outputs": [],
   "source": [
    "for c in ['fare', 'tips', 'tolls', 'extras', 'trip_total']:\n",
    "    df[c] = df[c].apply(lambda x: float(str(x).translate(str.maketrans(dict.fromkeys(['$',','])))))"
   ]
  },
  {
   "cell_type": "code",
   "execution_count": 20,
   "metadata": {
    "collapsed": false
   },
   "outputs": [
    {
     "name": "stdout",
     "output_type": "stream",
     "text": [
      "<class 'pandas.core.frame.DataFrame'>\n",
      "Int64Index: 5516447 entries, 0 to 5516447\n",
      "Data columns (total 15 columns):\n",
      "trip_id                   object\n",
      "taxi_id                   object\n",
      "trip_start_timestamp      object\n",
      "trip_end_timestamp        object\n",
      "trip_seconds              float64\n",
      "trip_miles                float64\n",
      "pickup_community_area     int64\n",
      "dropoff_community_area    float64\n",
      "fare                      float64\n",
      "tips                      float64\n",
      "tolls                     float64\n",
      "extras                    float64\n",
      "trip_total                float64\n",
      "payment_type              object\n",
      "company                   object\n",
      "dtypes: float64(8), int64(1), object(6)\n",
      "memory usage: 673.4+ MB\n"
     ]
    }
   ],
   "source": [
    "df.info()"
   ]
  },
  {
   "cell_type": "code",
   "execution_count": 21,
   "metadata": {
    "collapsed": true
   },
   "outputs": [],
   "source": [
    "# for c in ['trip_start_timestamp', 'trip_end_timestamp']:\n",
    "#     df[c] = df[c].apply(lambda x: pd.to_datetime(x))"
   ]
  },
  {
   "cell_type": "code",
   "execution_count": 22,
   "metadata": {
    "collapsed": false
   },
   "outputs": [
    {
     "data": {
      "text/html": [
       "<div>\n",
       "<table border=\"1\" class=\"dataframe\">\n",
       "  <thead>\n",
       "    <tr style=\"text-align: right;\">\n",
       "      <th></th>\n",
       "      <th>trip_id</th>\n",
       "      <th>taxi_id</th>\n",
       "      <th>trip_start_timestamp</th>\n",
       "      <th>trip_end_timestamp</th>\n",
       "      <th>trip_seconds</th>\n",
       "      <th>trip_miles</th>\n",
       "      <th>pickup_community_area</th>\n",
       "      <th>dropoff_community_area</th>\n",
       "      <th>fare</th>\n",
       "      <th>tips</th>\n",
       "      <th>tolls</th>\n",
       "      <th>extras</th>\n",
       "      <th>trip_total</th>\n",
       "      <th>payment_type</th>\n",
       "      <th>company</th>\n",
       "    </tr>\n",
       "  </thead>\n",
       "  <tbody>\n",
       "    <tr>\n",
       "      <th>0</th>\n",
       "      <td>0171ea69627693e2cef3fa233a88f7b822056cf7</td>\n",
       "      <td>718e14c3dcea2b17d67bf6277da06c7402e1435c96b460...</td>\n",
       "      <td>07/19/2016 07:15:00 PM</td>\n",
       "      <td>07/19/2016 08:15:00 PM</td>\n",
       "      <td>2880.0</td>\n",
       "      <td>1.1</td>\n",
       "      <td>76</td>\n",
       "      <td>8.0</td>\n",
       "      <td>46.00</td>\n",
       "      <td>8.00</td>\n",
       "      <td>0.0</td>\n",
       "      <td>5.0</td>\n",
       "      <td>59.00</td>\n",
       "      <td>Credit Card</td>\n",
       "      <td>Taxi Affiliation Services</td>\n",
       "    </tr>\n",
       "    <tr>\n",
       "      <th>1</th>\n",
       "      <td>0171ef157f8e29d82ba0429536ceba31e355a6bc</td>\n",
       "      <td>f80bb6e887a18028617ef0e0861429d12762cfd858bcbc...</td>\n",
       "      <td>05/08/2016 05:45:00 PM</td>\n",
       "      <td>05/08/2016 06:30:00 PM</td>\n",
       "      <td>2040.0</td>\n",
       "      <td>16.3</td>\n",
       "      <td>76</td>\n",
       "      <td>8.0</td>\n",
       "      <td>39.25</td>\n",
       "      <td>10.81</td>\n",
       "      <td>0.0</td>\n",
       "      <td>4.0</td>\n",
       "      <td>54.56</td>\n",
       "      <td>Credit Card</td>\n",
       "      <td>NaN</td>\n",
       "    </tr>\n",
       "    <tr>\n",
       "      <th>2</th>\n",
       "      <td>0171ef8a43930d0824d2180ad3911b2256aae41d</td>\n",
       "      <td>40aed61177db25fbb6eea25b46c3f674ddbd7d42d93e6f...</td>\n",
       "      <td>05/26/2016 05:00:00 PM</td>\n",
       "      <td>05/26/2016 05:15:00 PM</td>\n",
       "      <td>600.0</td>\n",
       "      <td>1.4</td>\n",
       "      <td>32</td>\n",
       "      <td>8.0</td>\n",
       "      <td>7.50</td>\n",
       "      <td>2.00</td>\n",
       "      <td>0.0</td>\n",
       "      <td>0.0</td>\n",
       "      <td>9.50</td>\n",
       "      <td>Credit Card</td>\n",
       "      <td>Dispatch Taxi Affiliation</td>\n",
       "    </tr>\n",
       "    <tr>\n",
       "      <th>3</th>\n",
       "      <td>0171f00f1e267a4eb7b673002222d385928df7ce</td>\n",
       "      <td>fdc3156afe8accb70f5aea5f2cd2d7cefd089d13b6d930...</td>\n",
       "      <td>09/29/2016 06:30:00 PM</td>\n",
       "      <td>09/29/2016 06:45:00 PM</td>\n",
       "      <td>1260.0</td>\n",
       "      <td>0.4</td>\n",
       "      <td>32</td>\n",
       "      <td>3.0</td>\n",
       "      <td>21.00</td>\n",
       "      <td>4.20</td>\n",
       "      <td>0.0</td>\n",
       "      <td>0.0</td>\n",
       "      <td>25.20</td>\n",
       "      <td>Credit Card</td>\n",
       "      <td>Taxi Affiliation Services</td>\n",
       "    </tr>\n",
       "    <tr>\n",
       "      <th>4</th>\n",
       "      <td>0171f8dab9ce4d3b52fc0aaca11454cb67d3eba4</td>\n",
       "      <td>0aafa031f499a377150605b9f9c94c933ce52cabc6e43d...</td>\n",
       "      <td>06/18/2016 09:30:00 AM</td>\n",
       "      <td>06/18/2016 10:00:00 AM</td>\n",
       "      <td>1560.0</td>\n",
       "      <td>17.7</td>\n",
       "      <td>8</td>\n",
       "      <td>76.0</td>\n",
       "      <td>43.75</td>\n",
       "      <td>9.85</td>\n",
       "      <td>0.0</td>\n",
       "      <td>5.0</td>\n",
       "      <td>59.10</td>\n",
       "      <td>Credit Card</td>\n",
       "      <td>NaN</td>\n",
       "    </tr>\n",
       "  </tbody>\n",
       "</table>\n",
       "</div>"
      ],
      "text/plain": [
       "                                    trip_id  \\\n",
       "0  0171ea69627693e2cef3fa233a88f7b822056cf7   \n",
       "1  0171ef157f8e29d82ba0429536ceba31e355a6bc   \n",
       "2  0171ef8a43930d0824d2180ad3911b2256aae41d   \n",
       "3  0171f00f1e267a4eb7b673002222d385928df7ce   \n",
       "4  0171f8dab9ce4d3b52fc0aaca11454cb67d3eba4   \n",
       "\n",
       "                                             taxi_id    trip_start_timestamp  \\\n",
       "0  718e14c3dcea2b17d67bf6277da06c7402e1435c96b460...  07/19/2016 07:15:00 PM   \n",
       "1  f80bb6e887a18028617ef0e0861429d12762cfd858bcbc...  05/08/2016 05:45:00 PM   \n",
       "2  40aed61177db25fbb6eea25b46c3f674ddbd7d42d93e6f...  05/26/2016 05:00:00 PM   \n",
       "3  fdc3156afe8accb70f5aea5f2cd2d7cefd089d13b6d930...  09/29/2016 06:30:00 PM   \n",
       "4  0aafa031f499a377150605b9f9c94c933ce52cabc6e43d...  06/18/2016 09:30:00 AM   \n",
       "\n",
       "       trip_end_timestamp  trip_seconds  trip_miles  pickup_community_area  \\\n",
       "0  07/19/2016 08:15:00 PM        2880.0         1.1                     76   \n",
       "1  05/08/2016 06:30:00 PM        2040.0        16.3                     76   \n",
       "2  05/26/2016 05:15:00 PM         600.0         1.4                     32   \n",
       "3  09/29/2016 06:45:00 PM        1260.0         0.4                     32   \n",
       "4  06/18/2016 10:00:00 AM        1560.0        17.7                      8   \n",
       "\n",
       "   dropoff_community_area   fare   tips  tolls  extras  trip_total  \\\n",
       "0                     8.0  46.00   8.00    0.0     5.0       59.00   \n",
       "1                     8.0  39.25  10.81    0.0     4.0       54.56   \n",
       "2                     8.0   7.50   2.00    0.0     0.0        9.50   \n",
       "3                     3.0  21.00   4.20    0.0     0.0       25.20   \n",
       "4                    76.0  43.75   9.85    0.0     5.0       59.10   \n",
       "\n",
       "  payment_type                    company  \n",
       "0  Credit Card  Taxi Affiliation Services  \n",
       "1  Credit Card                        NaN  \n",
       "2  Credit Card  Dispatch Taxi Affiliation  \n",
       "3  Credit Card  Taxi Affiliation Services  \n",
       "4  Credit Card                        NaN  "
      ]
     },
     "execution_count": 22,
     "metadata": {},
     "output_type": "execute_result"
    }
   ],
   "source": [
    "df.head()"
   ]
  },
  {
   "cell_type": "code",
   "execution_count": 24,
   "metadata": {
    "collapsed": false
   },
   "outputs": [
    {
     "data": {
      "text/plain": [
       "Credit Card    5516447\n",
       "Name: payment_type, dtype: int64"
      ]
     },
     "execution_count": 24,
     "metadata": {},
     "output_type": "execute_result"
    }
   ],
   "source": [
    "df.payment_type.value_counts()"
   ]
  },
  {
   "cell_type": "code",
   "execution_count": 25,
   "metadata": {
    "collapsed": true
   },
   "outputs": [],
   "source": [
    "df_sample = df.sample(n=100000)"
   ]
  },
  {
   "cell_type": "code",
   "execution_count": 27,
   "metadata": {
    "collapsed": false
   },
   "outputs": [
    {
     "name": "stdout",
     "output_type": "stream",
     "text": [
      "<class 'pandas.core.frame.DataFrame'>\n",
      "Int64Index: 100000 entries, 1862170 to 3515362\n",
      "Data columns (total 15 columns):\n",
      "trip_id                   100000 non-null object\n",
      "taxi_id                   99983 non-null object\n",
      "trip_start_timestamp      100000 non-null object\n",
      "trip_end_timestamp        100000 non-null object\n",
      "trip_seconds              99999 non-null float64\n",
      "trip_miles                100000 non-null float64\n",
      "pickup_community_area     100000 non-null int64\n",
      "dropoff_community_area    96581 non-null float64\n",
      "fare                      100000 non-null float64\n",
      "tips                      100000 non-null float64\n",
      "tolls                     100000 non-null float64\n",
      "extras                    100000 non-null float64\n",
      "trip_total                100000 non-null float64\n",
      "payment_type              100000 non-null object\n",
      "company                   55475 non-null object\n",
      "dtypes: float64(8), int64(1), object(6)\n",
      "memory usage: 12.2+ MB\n"
     ]
    }
   ],
   "source": [
    "df_sample.info()"
   ]
  },
  {
   "cell_type": "code",
   "execution_count": 28,
   "metadata": {
    "collapsed": false
   },
   "outputs": [
    {
     "data": {
      "text/plain": [
       "count    100000.000000\n",
       "mean          3.658688\n",
       "std           3.298073\n",
       "min           0.000000\n",
       "25%           2.000000\n",
       "50%           2.250000\n",
       "75%           4.050000\n",
       "max         120.000000\n",
       "Name: tips, dtype: float64"
      ]
     },
     "execution_count": 28,
     "metadata": {},
     "output_type": "execute_result"
    }
   ],
   "source": [
    "df_sample.tips.describe()"
   ]
  },
  {
   "cell_type": "code",
   "execution_count": 29,
   "metadata": {
    "collapsed": false
   },
   "outputs": [
    {
     "data": {
      "text/plain": [
       "count    100000.000000\n",
       "mean         16.750377\n",
       "std          14.450045\n",
       "min           0.000000\n",
       "25%           7.000000\n",
       "50%          10.000000\n",
       "75%          20.750000\n",
       "max         307.000000\n",
       "Name: fare, dtype: float64"
      ]
     },
     "execution_count": 29,
     "metadata": {},
     "output_type": "execute_result"
    }
   ],
   "source": [
    "df_sample.fare.describe()"
   ]
  },
  {
   "cell_type": "code",
   "execution_count": 30,
   "metadata": {
    "collapsed": true
   },
   "outputs": [],
   "source": [
    "df_sample['tip_percent'] = df_sample['tips'] / df_sample.fare"
   ]
  },
  {
   "cell_type": "code",
   "execution_count": 31,
   "metadata": {
    "collapsed": false
   },
   "outputs": [
    {
     "data": {
      "text/plain": [
       "count    9.999800e+04\n",
       "mean              inf\n",
       "std               NaN\n",
       "min      0.000000e+00\n",
       "25%      2.000000e-01\n",
       "50%      2.230769e-01\n",
       "75%      2.985507e-01\n",
       "max               inf\n",
       "Name: tip_percent, dtype: float64"
      ]
     },
     "execution_count": 31,
     "metadata": {},
     "output_type": "execute_result"
    }
   ],
   "source": [
    "df_sample.tip_percent.describe()"
   ]
  },
  {
   "cell_type": "code",
   "execution_count": 34,
   "metadata": {
    "collapsed": false
   },
   "outputs": [
    {
     "name": "stderr",
     "output_type": "stream",
     "text": [
      "//anaconda/lib/python3.6/site-packages/ipykernel/__main__.py:1: UserWarning: Boolean Series key will be reindexed to match DataFrame index.\n",
      "  if __name__ == '__main__':\n"
     ]
    }
   ],
   "source": [
    "df_sample = df_sample[df.fare != 0].copy()"
   ]
  },
  {
   "cell_type": "code",
   "execution_count": 35,
   "metadata": {
    "collapsed": false
   },
   "outputs": [
    {
     "data": {
      "text/plain": [
       "count    99996.000000\n",
       "mean         0.249103\n",
       "std          0.156655\n",
       "min          0.000000\n",
       "25%          0.200000\n",
       "50%          0.223077\n",
       "75%          0.298551\n",
       "max         16.428571\n",
       "Name: tip_percent, dtype: float64"
      ]
     },
     "execution_count": 35,
     "metadata": {},
     "output_type": "execute_result"
    }
   ],
   "source": [
    "df_sample.tip_percent.describe()"
   ]
  },
  {
   "cell_type": "code",
   "execution_count": 43,
   "metadata": {
    "collapsed": false
   },
   "outputs": [
    {
     "data": {
      "text/plain": [
       "(0, 1)"
      ]
     },
     "execution_count": 43,
     "metadata": {},
     "output_type": "execute_result"
    },
    {
     "data": {
      "image/png": "[encoded data removed]",
      "text/plain": [
       "<matplotlib.figure.Figure at 0x11b6a9080>"
      ]
     },
     "metadata": {},
     "output_type": "display_data"
    }
   ],
   "source": [
    "import numpy as np\n",
    "\n",
    "plt.hist(df_sample.tip_percent, bins=np.arange(0,1,.05))\n",
    "plt.xlim([0,1])"
   ]
  },
  {
   "cell_type": "code",
   "execution_count": 100,
   "metadata": {
    "collapsed": false
   },
   "outputs": [],
   "source": [
    "df_sample['zero_tip'] = df_sample.tips.apply(lambda x: 1 if x == 0 else 0)"
   ]
  },
  {
   "cell_type": "code",
   "execution_count": 102,
   "metadata": {
    "collapsed": false
   },
   "outputs": [],
   "source": [
    "df_sample = pd.get_dummies(df_sample, columns=['pickup_community_area'])"
   ]
  },
  {
   "cell_type": "code",
   "execution_count": 138,
   "metadata": {
    "collapsed": false
   },
   "outputs": [
    {
     "data": {
      "text/plain": [
       "Index(['pickup_community_area_9', 'pickup_community_area_10',\n",
       "       'pickup_community_area_11', 'pickup_community_area_12',\n",
       "       'pickup_community_area_13', 'pickup_community_area_14',\n",
       "       'pickup_community_area_15', 'pickup_community_area_16',\n",
       "       'pickup_community_area_17', 'pickup_community_area_18',\n",
       "       'pickup_community_area_19', 'pickup_community_area_20',\n",
       "       'pickup_community_area_21', 'pickup_community_area_22',\n",
       "       'pickup_community_area_23', 'pickup_community_area_24',\n",
       "       'pickup_community_area_25', 'pickup_community_area_26',\n",
       "       'pickup_community_area_27', 'pickup_community_area_28',\n",
       "       'pickup_community_area_29', 'pickup_community_area_30',\n",
       "       'pickup_community_area_31', 'pickup_community_area_32',\n",
       "       'pickup_community_area_33', 'pickup_community_area_34',\n",
       "       'pickup_community_area_35', 'pickup_community_area_36',\n",
       "       'pickup_community_area_37', 'pickup_community_area_38',\n",
       "       'pickup_community_area_39', 'pickup_community_area_40',\n",
       "       'pickup_community_area_41', 'pickup_community_area_42',\n",
       "       'pickup_community_area_43', 'pickup_community_area_44',\n",
       "       'pickup_community_area_45', 'pickup_community_area_46',\n",
       "       'pickup_community_area_48', 'pickup_community_area_49',\n",
       "       'pickup_community_area_50', 'pickup_community_area_52',\n",
       "       'pickup_community_area_55', 'pickup_community_area_56',\n",
       "       'pickup_community_area_57', 'pickup_community_area_58',\n",
       "       'pickup_community_area_59', 'pickup_community_area_60',\n",
       "       'pickup_community_area_61', 'pickup_community_area_62',\n",
       "       'pickup_community_area_63', 'pickup_community_area_64',\n",
       "       'pickup_community_area_66', 'pickup_community_area_67',\n",
       "       'pickup_community_area_68', 'pickup_community_area_69',\n",
       "       'pickup_community_area_70', 'pickup_community_area_72',\n",
       "       'pickup_community_area_76', 'pickup_community_area_77'],\n",
       "      dtype='object')"
      ]
     },
     "execution_count": 138,
     "metadata": {},
     "output_type": "execute_result"
    }
   ],
   "source": [
    "df_sample.columns[-60:]"
   ]
  },
  {
   "cell_type": "code",
   "execution_count": 114,
   "metadata": {
    "collapsed": false
   },
   "outputs": [
    {
     "data": {
      "text/plain": [
       "taxi_id\n",
       "2059659f66366de2e2b2e0ea721c8a4f18d61f51547a04b359ed84510af152701b3d912f8cab34a83cf6e39812d037d677d9c92aa4484fc512b7443433289f8c    11\n",
       "e8b30fe3cdcf458994b6943ba607e06f31b92202cab6b738f759f564007e1381a6cc1e7da2f48c2b0ced5c9dddbdf795c762884b2f0ac46f11406772d87f1ca0    10\n",
       "fca5a4c5310ab86ab5be5e35261988e5190110ccfd5e50c9df74d084c55bea9f398c72c8ae785b2dde4d0c05b0cfd01041ef6e6d7e5df3afdc70f59cd7357a8c    10\n",
       "0fdab9be71f6d88e3d3a2e115afc5a33d2bf74153792c50143688a9c285f33207c6dc6d558d09b16fe1d167e979b0daffaba4f089cac2517a1fab980a4386ade    10\n",
       "dc45a54b6ba04f8e92435b925b709a1c6ba222f9f9c30222341a154819e30249625301d34e0b56a9af5a2cbd8d5694844069c5bf199c920b3776f6a21cca2b17    10\n",
       "53f28dea0e1172c2846d93d12b453aa443f6a75dbc3f855d9805cecff71c6b2d7f46d8309f27c60e8df24b90192f0723293eeac2f05126d95c4dd3ff32d420d4     9\n",
       "066b3556ed807047c53fbcb988bbc00f26e4ad670309803d5e8b018b6fafb109218348846039ae797a794b8e65eb457ae2c29566b9a6024b370b3a03ddfad3cc     9\n",
       "1d86176b030f7f2832a3ab7839a57c5e64a7c1d07c18f8257e9b40921cf087e259d487f5d84375507dcd10b17370f2cd0bf5ca23bd42d768cdb8c9ffa6e7894b     9\n",
       "c3cd77364e0d1be3c6dbc6370b7fd5d73e0c509ed1a5a5ecbdb39520be16340f19a681864df28f1a8a9798e70b8057213b7e77745c8d833b64a34e8fb541565a     9\n",
       "8b8d35663133904892cc1e87911f55ed0bdf9a9bd1093c97025869a02f151c9ac0e089ac00a581281e172b00ec459830089882f5f4261ea514929a5a6ad0d169     9\n",
       "e4c97db1b1f32dac44b4917a31bdedb41c8825d1795caa0052c2c8eab3f66b0710196ba5b64869bed38672cadca7a056dff5001f2c6cf35c2b1b14b1791e893e     9\n",
       "60aae8e568c93d122bfcfecaa379d47b448750a20ea93a726bd25481d15288842e89ac05d68365fff4ac77b2d48511fcb9345d5f96a3e3d5c0cda07bfbee2d8b     9\n",
       "99c4682167a731b8fb229720c27d36b90990f69492b6b38c4bc1011c7f4cb0f94459490ec3f333b95d67cc0750a0c9b9f66077d8fafc208768a2570b05bcf8f4     8\n",
       "78d1ae230754ef2eca7aa3e828789bc4714b8a261a35d5a68ec99361a2ac78cadf9daceaf0feaf8965e9932ad127499fd270df74e1308b412a4da1ea8c0fbbfa     8\n",
       "50fea951948db64bb2bde2d5789677d8efa667a1fa7427d02f35f07460ff87f86fb1133de4d4f92e1d253e3c25c1933fc624c3c995b8abb64600c472d04f778b     8\n",
       "589908a606c38f693dfa67e1b4a0e323d3e186b8c2e6adedf00102922e847a41f6429995001fa68f2a8bddc1f0eb42ef28b6203a26539497ff6f9e0005eb85a7     8\n",
       "5b0497a25d143de6359f81e7e219ae601f578f4cff5a115711367d1e15c8ee6581cbcc8744f03b1fb4cc225c01cc33b510c3bdc13963f48377f8d96d1e6bca9d     8\n",
       "f57c52ac544fb55fe663b6629c3a431653f4fa63ee3c5d88b03ce205b80ac3fd391cf5c335b4a20382a31e618ccdd4ba8bf331714db225cb9c8f652e23153c58     8\n",
       "a1b762f1aec578cc84bb53bb095eaf9dffd68e6ad0c27187418462087e8a9568a8d98ced316271f1c63b26edf81376ed74f30eb4869d06bbec089b7698205d61     7\n",
       "362450283e701d42253081f8ef4ebb93739781c70689958f9d11aced3acd7587aa500d3fb5e93217934cb1fb88cb0c1d5ac08f9f395fc0223191f5bfd6afffab     7\n",
       "fb5aea228c410e05b7e92551a75f9dbc3caff3ffb04ae65acf823155f24a77024b6589d1ea98572c61b21d0e7c9ac32ef61b7085bb18402f2da92e6485518ade     7\n",
       "7a9c5c79f3e8300b7b106c5c5134357517a128617fb94fc017c7044b40ca46398b5d8d18feb78f335ffc03c51be7dfc3555a6ee5f811c0f2ab1cf16f3ffb9f23     7\n",
       "d12b9e3cb8201f4c58e7d3ad3a970bb83f46788415f5d9d81a37fda3765b84dc2ce337a58cfeb7c5ba0c712460353b85799e69232f5e75cded26080cb06485a2     7\n",
       "52b413067437984fbc09298bfd9f8c6a7ad9465fb071aed6e777164bca1ca31fe2518825e94ab61107125e6bb750a89d92ed9f7b530b8a1bc8a7189f85e78ae7     7\n",
       "30a9f15f6ea50588616510998c72b15a0ade1af8e2b8684fe7107f2a5f8bbb87df3248323a4cb1d87337fe34c0c5629edc5e61cb203005dbdc9d4cddf997b9ba     7\n",
       "4d924c1ad8126ad7efcbe49964b63ce4e62e11223b0f414c6d2712c8acadf7c8b66887ab9b947389e1db20f30c91c21cea02ec9400fa236ec404fffb99412d19     7\n",
       "4589a57cec6f39dba89ffb38ebbfc6f15f269c8c40c1154d6dbe5711b13e2b117765d793977803b0b8dde96644171cdb053acbd41493b7d486ff5d938cebae38     7\n",
       "e22ecca874b73310f44c643c7a820a43df0c11f51620de463904d9caa4333c0983a5e93fe918ac5a3a737ed8e3adcf7225c9d0de8c7ee84e3a7f59eeab6e922b     7\n",
       "bc63ae0c7ee45051c7f3d02cdb650d855e0dd0f4a3ecbe30abfb4d193407118323b9265a861e6cd0304e6255e4b9fd32f8885a7b9d777eae5966b4c67dbb8d1c     7\n",
       "b4ac2893286a7c3a55df851a3732ea65d7fb82e1da7a19f728a71651761babfd88544152301073319650be263fd4e1aabc072601e6f452daf22ceb764f8d70d5     7\n",
       "                                                                                                                                    ..\n",
       "650b3e68ea6ad1712c18144ab34858adb29bca2c95011faea945aa4072322131a5517eabc70ad2e3a74aaa9e055c5573ec9526327e434864fcab27159782be00     0\n",
       "67d5ca2736337fa9f349db0f29887fe290c0cd8426305560537270cf160e322170787d2149cd327faf66841281ba8610c7efe0edc9dc0ca436a79be991e79fe2     0\n",
       "652d97914d2176c6b1053a0b38c6cf255fd875f29e7b9b67555d369bcd57f1823a3b399ade60ba0f32c8462afcc6fb3903c1f2fd463ba5dc1b32af1f7a095616     0\n",
       "65481ae653563bda7ccf1f799b9d7e3311652bbeaa68bb6cab947c69163ace49337a4bdb8e2525cb71b22a89e7a40187996821edbbf6edbd524d234dd18dddee     0\n",
       "dcd0acf4ecca7a5cba7c968cebf6d643a6ca84e1867175de487a0fe92ce506b4a24b634560ca3b0dca1ceef0a91f0e81a98aaf24576f940a1e71ac6f365c5b47     0\n",
       "6551ba527f916e0b8187165d7e61705fc2641c9b3afd699f8bcf626970b1b9a9716a4602a084a254d9bcce8912eae21472ce82742c2479742528dfe7328309c7     0\n",
       "dc99a6b7916bb2dc16f1a099e29a3caf7dd52ddc34a8770c2b55f2be55cb2dfed2e73beefde456250740f26e64c9882ef59c02edd3bef0422e2335761f4b38f8     0\n",
       "65d3823781dd95789855c6c3038256cf5dccc15b727ac89e812fb5e7b30b91771de5aa83091ef8059cf066a86489f5643c8016440cd4d8413fba607f480b1e44     0\n",
       "65e345a16c02e0408409d6d71a7a5cb09449e5c84c16d0fcf5f125805bf53d4250e05521a768e515f1df9c7fa3c78f50b528607364939d8fba775b23cdde1a1b     0\n",
       "65f42dfde0c75a7feb7133d394bff7140ae249ca450a0139f959c0d11b79c4735300aa105037d75b3bca03f9f531dab253b49acde21edd76e5ada583a5b34124     0\n",
       "66117ecf4c793d87433eaa36069d49655be217c48c9ae6098549d7f0a266fff8047a27844d1ae1912e7a5093966877f88ada8f72b4bb600b118a171dc9ba72cb     0\n",
       "661cda59f0dc5cacf442f48593e300010c8f10a4a6d0e07ea6d5fb6603425e6434f09fbbf86726e1396bec799c7e1abc24a8cb1e412c69a3d3bfb5d9b6094f39     0\n",
       "661fc9d5fb92cc2dd0ede8eb403c811fad5b1e6d219b4494bc047ffdcf1896560987f605178916e53d920dcb3b11c242fcc3ceec164de5a8724a0a723bc4fbcd     0\n",
       "66242a333a4029bc3a42b01401e7a2b39f3940777b67a6e4f44d953fe17f90fa0d5881459adba9cc84d67f2fb043f43795a84e02e9a768207c225cf89588c4f4     0\n",
       "dc5e22b006b5657d957e2581d452ba4722782780acb52cd3ed2112b032d7a391b78b7c0bb24acb5d2ce3f3863410fc2b1daf8aea9755a7525535747230d8cce2     0\n",
       "dc5cee229b76c5da48c87dd388fa845941c54103cd1a63cc90d4d803b665582984d80cb9211edb2516bbdd95e930fcfe846a3693bb345aa6332968f415a6d23d     0\n",
       "6682944f2b37609761181033253037c05fed4377e8b6496a7a902a71bb6ddcd7f1f924d0954e948c6a9563b482a0c5535b91cf8438e3cb4df6d26a38ffcc93ab     0\n",
       "669e5dc97c37885a7a7b88f53980c1ab6ff2d00aaaa54f08af1f79bcb77034fbb7804e35398722977cdb218e915347432eecd04fe4583ac442c838c5e29428e5     0\n",
       "66e0beb5cdba833d46e74cf7d92603483d9d7237c3427dcc544df8efd8c9fe0220587f02e65540aa1fcb1abd94321b0c010dd2209dec6de9341cff570ff9b152     0\n",
       "66ebbd53ce51fc2a0812762680ec1e0055efb7a5e341cb0f011e6e6e2d888f5a34cf7969b913891fcd4cd22e1409d72dca36a792ddb7c3a4bd251c99fb863cb4     0\n",
       "66f8216873a0600e21f062160013aca41bc164549226a71f74b19054b0fc65384574bcb40fcf380bee86b450281c9ebb1d32796808158ff4aa833d1de9f966fd     0\n",
       "6713452893447c1989e21e0260570d2357e27c202dc6d1419cfaf8c9662ee6095a87a5eb48e4bcbdea627ff4bcbfcb5ba665178d3cbb76d38022a12473a84b77     0\n",
       "671a9e17caefff3721c57f67824ddc316b2ce48cedc25dc88fae06fba78f7d4d6e2bf1972557d5f6ad5a968793646b7261bba9894fe43a796848d4eaa4878635     0\n",
       "dc243d47dd626c004e7bf7ab6cb62959fd6e46c7e566d32730b1e09491da63021ca0d06ccf8617d7aadd7ff7c8ff8d3567cb07afacaf9c8bc208c60b8304481e     0\n",
       "67626fd19ea0296c57b1a5ddd9bcf19f0135c8f45da2c2e48efbd63c1667da7a71eee617fdbf810b81d92a74c21dc98f4338a4b5d4165b7809d1dcdcbf0cd042     0\n",
       "6778d44f5164d57ce76c95242f4f3af1dd0986082f1be35e1953b94ddbf68aee7189c2834d1358082e19f0c63e70f18c91a8425bb754460f46c69ff1677d38ba     0\n",
       "6783c28c67add07facfadc5deb95c0456e3e0954edb06e1ede602d20e839879cfcd22c049c09c8af4c1a3c7cd46f0fd039fb6494ea0c02612b73ae0adcf8d39e     0\n",
       "67cbad0de729d814d848a331b1e37cb8df3a5537fc7d879eb2d2ea32d4295d5fc56bb273eaaba13f85d1cfcff73b295c598e03af1c54660ec0f0db8e8bd69759     0\n",
       "67cdd41437563bed53a4348a0a050d03bfb80df4cc25191b2408f6adcc9050322dad5f6076499235ff29110159df1b024ee0afaaf3ace3dc9af1fac4a1d368ea     0\n",
       "81a604cff41feea3ba5b61d8ec2bbc2483f73fd18351d05112c6c404d6c6098c3346c7e3dc97498bc66ffb19a2fc1ac531f9f625865f9c7a7d3ec7cd3898cf79     0\n",
       "Name: zero_tip, dtype: int64"
      ]
     },
     "execution_count": 114,
     "metadata": {},
     "output_type": "execute_result"
    }
   ],
   "source": [
    "df_sample.groupby('taxi_id')['zero_tip'].sum().sort_values(ascending=False)"
   ]
  },
  {
   "cell_type": "code",
   "execution_count": 126,
   "metadata": {
    "collapsed": false
   },
   "outputs": [],
   "source": [
    "df_sample.drop(['company_0118 - 42111 Godfrey S.Awir',\n",
    "       'company_0694 - 59280 Chinesco Trans Inc',\n",
    "       'company_1085 - 72312 N and W Cab Co',\n",
    "       'company_1247 - 72807 Daniel Ayertey', 'company_1469 - 64126 Omar Jada',\n",
    "       'company_2092 - 61288 Sbeih company',\n",
    "       'company_2192 - 73487 Zeymane Corp',\n",
    "       'company_2241 - 44667 - Felman Corp, Manuel Alonso',\n",
    "       'company_2241 - 44667 Manuel Alonso', 'company_2733 - 74600 Benny Jona',\n",
    "       'company_2809 - 95474 C & D Cab Co Inc.',\n",
    "       'company_2823 - 73307 Lee Express Inc',\n",
    "       'company_2823 - 73307 Seung Lee', 'company_3011 - 66308 JBL Cab Inc.',\n",
    "       'company_3094 - 24059 G.L.B. Cab Co', 'company_3141 - 87803 Zip Cab',\n",
    "       'company_3152 - 97284 Crystal Abernathy',\n",
    "       'company_3201 - C&D Cab Co Inc', 'company_3201 - CD Cab Co Inc',\n",
    "       'company_3319 - CD Cab Co', 'company_3556 - 36214 RC Andrews Cab',\n",
    "       'company_3591 - 63480 Chuks Cab',\n",
    "       'company_3620 - 52292 David K. Cab Corp.',\n",
    "       'company_3623 - 72222 Arrington Enterprises',\n",
    "       'company_3669 - 85800 Jordan Taxi Inc',\n",
    "       'company_3721 - Santamaria Express, Alvaro Santamaria',\n",
    "       'company_4053 - 40193 Adwar H. Nikola',\n",
    "       'company_4197 - 41842 Royal Star',\n",
    "       'company_4615 - 83503 Tyrone Henderson', 'company_4623 - 27290 Jay Kim',\n",
    "       'company_5006 - 39261 Salifu Bawa', 'company_5062 - 34841 Sam Mestas',\n",
    "       'company_5074 - 54002 Ahzmi Inc', 'company_5129 - 87128',\n",
    "       'company_5724 - 75306 KYVI Cab Inc',\n",
    "       'company_585 - 88805 Valley Cab Co',\n",
    "       'company_5874 - 73628 Sergey Cab Corp.',\n",
    "       'company_5997 - 65283 AW Services Inc.',\n",
    "       'company_6057 - 24657 Richard Addo',\n",
    "       'company_6574 - Babylon Express Inc.',\n",
    "       'company_6742 - 83735 Tasha ride inc',\n",
    "       'company_6743 - 78771 Luhak Corp', 'company_6747 - Mueen Abdalla',\n",
    "       'company_Blue Ribbon Taxi Association Inc.',\n",
    "       'company_Chicago Medallion Leasing INC',\n",
    "       'company_Chicago Medallion Management',\n",
    "       'company_Choice Taxi Association', 'company_Dispatch Taxi Affiliation',\n",
    "       'company_KOAM Taxi Association', 'company_Northwest Management LLC',\n",
    "       'company_Patriot Trans Inc', 'company_Taxi Affiliation Services',\n",
    "       'company_Top Cab Affiliation'], axis=1, inplace=True)"
   ]
  },
  {
   "cell_type": "code",
   "execution_count": 127,
   "metadata": {
    "collapsed": false
   },
   "outputs": [
    {
     "data": {
      "text/plain": [
       "Index(['trip_id', 'taxi_id', 'trip_start_timestamp', 'trip_end_timestamp',\n",
       "       'trip_seconds', 'trip_miles', 'dropoff_community_area', 'fare', 'tips',\n",
       "       'tolls', 'extras', 'trip_total', 'payment_type', 'tip_percent',\n",
       "       'zero_tip', 'pickup_community_area_1', 'pickup_community_area_2',\n",
       "       'pickup_community_area_3', 'pickup_community_area_4',\n",
       "       'pickup_community_area_5', 'pickup_community_area_6',\n",
       "       'pickup_community_area_7', 'pickup_community_area_8',\n",
       "       'pickup_community_area_9', 'pickup_community_area_10',\n",
       "       'pickup_community_area_11', 'pickup_community_area_12',\n",
       "       'pickup_community_area_13', 'pickup_community_area_14',\n",
       "       'pickup_community_area_15', 'pickup_community_area_16',\n",
       "       'pickup_community_area_17', 'pickup_community_area_18',\n",
       "       'pickup_community_area_19', 'pickup_community_area_20',\n",
       "       'pickup_community_area_21', 'pickup_community_area_22',\n",
       "       'pickup_community_area_23', 'pickup_community_area_24',\n",
       "       'pickup_community_area_25', 'pickup_community_area_26',\n",
       "       'pickup_community_area_27', 'pickup_community_area_28',\n",
       "       'pickup_community_area_29', 'pickup_community_area_30',\n",
       "       'pickup_community_area_31', 'pickup_community_area_32',\n",
       "       'pickup_community_area_33', 'pickup_community_area_34',\n",
       "       'pickup_community_area_35', 'pickup_community_area_36',\n",
       "       'pickup_community_area_37', 'pickup_community_area_38',\n",
       "       'pickup_community_area_39', 'pickup_community_area_40',\n",
       "       'pickup_community_area_41', 'pickup_community_area_42',\n",
       "       'pickup_community_area_43', 'pickup_community_area_44',\n",
       "       'pickup_community_area_45', 'pickup_community_area_46',\n",
       "       'pickup_community_area_48', 'pickup_community_area_49',\n",
       "       'pickup_community_area_50', 'pickup_community_area_52',\n",
       "       'pickup_community_area_55', 'pickup_community_area_56',\n",
       "       'pickup_community_area_57', 'pickup_community_area_58',\n",
       "       'pickup_community_area_59', 'pickup_community_area_60',\n",
       "       'pickup_community_area_61', 'pickup_community_area_62',\n",
       "       'pickup_community_area_63', 'pickup_community_area_64',\n",
       "       'pickup_community_area_66', 'pickup_community_area_67',\n",
       "       'pickup_community_area_68', 'pickup_community_area_69',\n",
       "       'pickup_community_area_70', 'pickup_community_area_72',\n",
       "       'pickup_community_area_76', 'pickup_community_area_77'],\n",
       "      dtype='object')"
      ]
     },
     "execution_count": 127,
     "metadata": {},
     "output_type": "execute_result"
    }
   ],
   "source": [
    "df_sample.columns"
   ]
  },
  {
   "cell_type": "code",
   "execution_count": null,
   "metadata": {
    "collapsed": true
   },
   "outputs": [],
   "source": []
  },
  {
   "cell_type": "code",
   "execution_count": null,
   "metadata": {
    "collapsed": true
   },
   "outputs": [],
   "source": []
  },
  {
   "cell_type": "code",
   "execution_count": 139,
   "metadata": {
    "collapsed": false
   },
   "outputs": [],
   "source": [
    "X = df_sample[['trip_miles', 'fare', 'trip_seconds']].values\n",
    "y = df_sample.zero_tip.values"
   ]
  },
  {
   "cell_type": "code",
   "execution_count": null,
   "metadata": {
    "collapsed": true
   },
   "outputs": [],
   "source": []
  },
  {
   "cell_type": "code",
   "execution_count": 140,
   "metadata": {
    "collapsed": false
   },
   "outputs": [],
   "source": [
    "from sklearn.ensemble import RandomForestClassifier\n",
    "from sklearn.model_selection import GridSearchCV\n",
    "\n",
    "params = {\n",
    "    'n_estimators':[100]\n",
    "}"
   ]
  },
  {
   "cell_type": "code",
   "execution_count": 130,
   "metadata": {
    "collapsed": false
   },
   "outputs": [],
   "source": [
    "grid = GridSearchCV(RandomForestClassifier(), param_grid=params, verbose=10)"
   ]
  },
  {
   "cell_type": "code",
   "execution_count": 131,
   "metadata": {
    "collapsed": false
   },
   "outputs": [
    {
     "name": "stdout",
     "output_type": "stream",
     "text": [
      "Fitting 3 folds for each of 1 candidates, totalling 3 fits\n",
      "[CV] n_estimators=100 ................................................\n"
     ]
    },
    {
     "ename": "ValueError",
     "evalue": "Input contains NaN, infinity or a value too large for dtype('float32').",
     "output_type": "error",
     "traceback": [
      "\u001b[0;31m---------------------------------------------------------------------------\u001b[0m",
      "\u001b[0;31mValueError\u001b[0m                                Traceback (most recent call last)",
      "\u001b[0;32m<ipython-input-131-fe6601c20b8e>\u001b[0m in \u001b[0;36m<module>\u001b[0;34m()\u001b[0m\n\u001b[0;32m----> 1\u001b[0;31m \u001b[0mgrid\u001b[0m\u001b[0;34m.\u001b[0m\u001b[0mfit\u001b[0m\u001b[0;34m(\u001b[0m\u001b[0mX\u001b[0m\u001b[0;34m,\u001b[0m \u001b[0my\u001b[0m\u001b[0;34m)\u001b[0m\u001b[0;34m\u001b[0m\u001b[0m\n\u001b[0m",
      "\u001b[0;32m//anaconda/lib/python3.6/site-packages/sklearn/model_selection/_search.py\u001b[0m in \u001b[0;36mfit\u001b[0;34m(self, X, y, groups)\u001b[0m\n\u001b[1;32m    943\u001b[0m             \u001b[0mtrain\u001b[0m\u001b[0;34m/\u001b[0m\u001b[0mtest\u001b[0m \u001b[0mset\u001b[0m\u001b[0;34m.\u001b[0m\u001b[0;34m\u001b[0m\u001b[0m\n\u001b[1;32m    944\u001b[0m         \"\"\"\n\u001b[0;32m--> 945\u001b[0;31m         \u001b[0;32mreturn\u001b[0m \u001b[0mself\u001b[0m\u001b[0;34m.\u001b[0m\u001b[0m_fit\u001b[0m\u001b[0;34m(\u001b[0m\u001b[0mX\u001b[0m\u001b[0;34m,\u001b[0m \u001b[0my\u001b[0m\u001b[0;34m,\u001b[0m \u001b[0mgroups\u001b[0m\u001b[0;34m,\u001b[0m \u001b[0mParameterGrid\u001b[0m\u001b[0;34m(\u001b[0m\u001b[0mself\u001b[0m\u001b[0;34m.\u001b[0m\u001b[0mparam_grid\u001b[0m\u001b[0;34m)\u001b[0m\u001b[0;34m)\u001b[0m\u001b[0;34m\u001b[0m\u001b[0m\n\u001b[0m\u001b[1;32m    946\u001b[0m \u001b[0;34m\u001b[0m\u001b[0m\n\u001b[1;32m    947\u001b[0m \u001b[0;34m\u001b[0m\u001b[0m\n",
      "\u001b[0;32m//anaconda/lib/python3.6/site-packages/sklearn/model_selection/_search.py\u001b[0m in \u001b[0;36m_fit\u001b[0;34m(self, X, y, groups, parameter_iterable)\u001b[0m\n\u001b[1;32m    562\u001b[0m                                   \u001b[0mreturn_times\u001b[0m\u001b[0;34m=\u001b[0m\u001b[0;32mTrue\u001b[0m\u001b[0;34m,\u001b[0m \u001b[0mreturn_parameters\u001b[0m\u001b[0;34m=\u001b[0m\u001b[0;32mTrue\u001b[0m\u001b[0;34m,\u001b[0m\u001b[0;34m\u001b[0m\u001b[0m\n\u001b[1;32m    563\u001b[0m                                   error_score=self.error_score)\n\u001b[0;32m--> 564\u001b[0;31m           \u001b[0;32mfor\u001b[0m \u001b[0mparameters\u001b[0m \u001b[0;32min\u001b[0m \u001b[0mparameter_iterable\u001b[0m\u001b[0;34m\u001b[0m\u001b[0m\n\u001b[0m\u001b[1;32m    565\u001b[0m           for train, test in cv_iter)\n\u001b[1;32m    566\u001b[0m \u001b[0;34m\u001b[0m\u001b[0m\n",
      "\u001b[0;32m//anaconda/lib/python3.6/site-packages/sklearn/externals/joblib/parallel.py\u001b[0m in \u001b[0;36m__call__\u001b[0;34m(self, iterable)\u001b[0m\n\u001b[1;32m    756\u001b[0m             \u001b[0;31m# was dispatched. In particular this covers the edge\u001b[0m\u001b[0;34m\u001b[0m\u001b[0;34m\u001b[0m\u001b[0m\n\u001b[1;32m    757\u001b[0m             \u001b[0;31m# case of Parallel used with an exhausted iterator.\u001b[0m\u001b[0;34m\u001b[0m\u001b[0;34m\u001b[0m\u001b[0m\n\u001b[0;32m--> 758\u001b[0;31m             \u001b[0;32mwhile\u001b[0m \u001b[0mself\u001b[0m\u001b[0;34m.\u001b[0m\u001b[0mdispatch_one_batch\u001b[0m\u001b[0;34m(\u001b[0m\u001b[0miterator\u001b[0m\u001b[0;34m)\u001b[0m\u001b[0;34m:\u001b[0m\u001b[0;34m\u001b[0m\u001b[0m\n\u001b[0m\u001b[1;32m    759\u001b[0m                 \u001b[0mself\u001b[0m\u001b[0;34m.\u001b[0m\u001b[0m_iterating\u001b[0m \u001b[0;34m=\u001b[0m \u001b[0;32mTrue\u001b[0m\u001b[0;34m\u001b[0m\u001b[0m\n\u001b[1;32m    760\u001b[0m             \u001b[0;32melse\u001b[0m\u001b[0;34m:\u001b[0m\u001b[0;34m\u001b[0m\u001b[0m\n",
      "\u001b[0;32m//anaconda/lib/python3.6/site-packages/sklearn/externals/joblib/parallel.py\u001b[0m in \u001b[0;36mdispatch_one_batch\u001b[0;34m(self, iterator)\u001b[0m\n\u001b[1;32m    606\u001b[0m                 \u001b[0;32mreturn\u001b[0m \u001b[0;32mFalse\u001b[0m\u001b[0;34m\u001b[0m\u001b[0m\n\u001b[1;32m    607\u001b[0m             \u001b[0;32melse\u001b[0m\u001b[0;34m:\u001b[0m\u001b[0;34m\u001b[0m\u001b[0m\n\u001b[0;32m--> 608\u001b[0;31m                 \u001b[0mself\u001b[0m\u001b[0;34m.\u001b[0m\u001b[0m_dispatch\u001b[0m\u001b[0;34m(\u001b[0m\u001b[0mtasks\u001b[0m\u001b[0;34m)\u001b[0m\u001b[0;34m\u001b[0m\u001b[0m\n\u001b[0m\u001b[1;32m    609\u001b[0m                 \u001b[0;32mreturn\u001b[0m \u001b[0;32mTrue\u001b[0m\u001b[0;34m\u001b[0m\u001b[0m\n\u001b[1;32m    610\u001b[0m \u001b[0;34m\u001b[0m\u001b[0m\n",
      "\u001b[0;32m//anaconda/lib/python3.6/site-packages/sklearn/externals/joblib/parallel.py\u001b[0m in \u001b[0;36m_dispatch\u001b[0;34m(self, batch)\u001b[0m\n\u001b[1;32m    569\u001b[0m         \u001b[0mdispatch_timestamp\u001b[0m \u001b[0;34m=\u001b[0m \u001b[0mtime\u001b[0m\u001b[0;34m.\u001b[0m\u001b[0mtime\u001b[0m\u001b[0;34m(\u001b[0m\u001b[0;34m)\u001b[0m\u001b[0;34m\u001b[0m\u001b[0m\n\u001b[1;32m    570\u001b[0m         \u001b[0mcb\u001b[0m \u001b[0;34m=\u001b[0m \u001b[0mBatchCompletionCallBack\u001b[0m\u001b[0;34m(\u001b[0m\u001b[0mdispatch_timestamp\u001b[0m\u001b[0;34m,\u001b[0m \u001b[0mlen\u001b[0m\u001b[0;34m(\u001b[0m\u001b[0mbatch\u001b[0m\u001b[0;34m)\u001b[0m\u001b[0;34m,\u001b[0m \u001b[0mself\u001b[0m\u001b[0;34m)\u001b[0m\u001b[0;34m\u001b[0m\u001b[0m\n\u001b[0;32m--> 571\u001b[0;31m         \u001b[0mjob\u001b[0m \u001b[0;34m=\u001b[0m \u001b[0mself\u001b[0m\u001b[0;34m.\u001b[0m\u001b[0m_backend\u001b[0m\u001b[0;34m.\u001b[0m\u001b[0mapply_async\u001b[0m\u001b[0;34m(\u001b[0m\u001b[0mbatch\u001b[0m\u001b[0;34m,\u001b[0m \u001b[0mcallback\u001b[0m\u001b[0;34m=\u001b[0m\u001b[0mcb\u001b[0m\u001b[0;34m)\u001b[0m\u001b[0;34m\u001b[0m\u001b[0m\n\u001b[0m\u001b[1;32m    572\u001b[0m         \u001b[0mself\u001b[0m\u001b[0;34m.\u001b[0m\u001b[0m_jobs\u001b[0m\u001b[0;34m.\u001b[0m\u001b[0mappend\u001b[0m\u001b[0;34m(\u001b[0m\u001b[0mjob\u001b[0m\u001b[0;34m)\u001b[0m\u001b[0;34m\u001b[0m\u001b[0m\n\u001b[1;32m    573\u001b[0m \u001b[0;34m\u001b[0m\u001b[0m\n",
      "\u001b[0;32m//anaconda/lib/python3.6/site-packages/sklearn/externals/joblib/_parallel_backends.py\u001b[0m in \u001b[0;36mapply_async\u001b[0;34m(self, func, callback)\u001b[0m\n\u001b[1;32m    107\u001b[0m     \u001b[0;32mdef\u001b[0m \u001b[0mapply_async\u001b[0m\u001b[0;34m(\u001b[0m\u001b[0mself\u001b[0m\u001b[0;34m,\u001b[0m \u001b[0mfunc\u001b[0m\u001b[0;34m,\u001b[0m \u001b[0mcallback\u001b[0m\u001b[0;34m=\u001b[0m\u001b[0;32mNone\u001b[0m\u001b[0;34m)\u001b[0m\u001b[0;34m:\u001b[0m\u001b[0;34m\u001b[0m\u001b[0m\n\u001b[1;32m    108\u001b[0m         \u001b[0;34m\"\"\"Schedule a func to be run\"\"\"\u001b[0m\u001b[0;34m\u001b[0m\u001b[0m\n\u001b[0;32m--> 109\u001b[0;31m         \u001b[0mresult\u001b[0m \u001b[0;34m=\u001b[0m \u001b[0mImmediateResult\u001b[0m\u001b[0;34m(\u001b[0m\u001b[0mfunc\u001b[0m\u001b[0;34m)\u001b[0m\u001b[0;34m\u001b[0m\u001b[0m\n\u001b[0m\u001b[1;32m    110\u001b[0m         \u001b[0;32mif\u001b[0m \u001b[0mcallback\u001b[0m\u001b[0;34m:\u001b[0m\u001b[0;34m\u001b[0m\u001b[0m\n\u001b[1;32m    111\u001b[0m             \u001b[0mcallback\u001b[0m\u001b[0;34m(\u001b[0m\u001b[0mresult\u001b[0m\u001b[0;34m)\u001b[0m\u001b[0;34m\u001b[0m\u001b[0m\n",
      "\u001b[0;32m//anaconda/lib/python3.6/site-packages/sklearn/externals/joblib/_parallel_backends.py\u001b[0m in \u001b[0;36m__init__\u001b[0;34m(self, batch)\u001b[0m\n\u001b[1;32m    324\u001b[0m         \u001b[0;31m# Don't delay the application, to avoid keeping the input\u001b[0m\u001b[0;34m\u001b[0m\u001b[0;34m\u001b[0m\u001b[0m\n\u001b[1;32m    325\u001b[0m         \u001b[0;31m# arguments in memory\u001b[0m\u001b[0;34m\u001b[0m\u001b[0;34m\u001b[0m\u001b[0m\n\u001b[0;32m--> 326\u001b[0;31m         \u001b[0mself\u001b[0m\u001b[0;34m.\u001b[0m\u001b[0mresults\u001b[0m \u001b[0;34m=\u001b[0m \u001b[0mbatch\u001b[0m\u001b[0;34m(\u001b[0m\u001b[0;34m)\u001b[0m\u001b[0;34m\u001b[0m\u001b[0m\n\u001b[0m\u001b[1;32m    327\u001b[0m \u001b[0;34m\u001b[0m\u001b[0m\n\u001b[1;32m    328\u001b[0m     \u001b[0;32mdef\u001b[0m \u001b[0mget\u001b[0m\u001b[0;34m(\u001b[0m\u001b[0mself\u001b[0m\u001b[0;34m)\u001b[0m\u001b[0;34m:\u001b[0m\u001b[0;34m\u001b[0m\u001b[0m\n",
      "\u001b[0;32m//anaconda/lib/python3.6/site-packages/sklearn/externals/joblib/parallel.py\u001b[0m in \u001b[0;36m__call__\u001b[0;34m(self)\u001b[0m\n\u001b[1;32m    129\u001b[0m \u001b[0;34m\u001b[0m\u001b[0m\n\u001b[1;32m    130\u001b[0m     \u001b[0;32mdef\u001b[0m \u001b[0m__call__\u001b[0m\u001b[0;34m(\u001b[0m\u001b[0mself\u001b[0m\u001b[0;34m)\u001b[0m\u001b[0;34m:\u001b[0m\u001b[0;34m\u001b[0m\u001b[0m\n\u001b[0;32m--> 131\u001b[0;31m         \u001b[0;32mreturn\u001b[0m \u001b[0;34m[\u001b[0m\u001b[0mfunc\u001b[0m\u001b[0;34m(\u001b[0m\u001b[0;34m*\u001b[0m\u001b[0margs\u001b[0m\u001b[0;34m,\u001b[0m \u001b[0;34m**\u001b[0m\u001b[0mkwargs\u001b[0m\u001b[0;34m)\u001b[0m \u001b[0;32mfor\u001b[0m \u001b[0mfunc\u001b[0m\u001b[0;34m,\u001b[0m \u001b[0margs\u001b[0m\u001b[0;34m,\u001b[0m \u001b[0mkwargs\u001b[0m \u001b[0;32min\u001b[0m \u001b[0mself\u001b[0m\u001b[0;34m.\u001b[0m\u001b[0mitems\u001b[0m\u001b[0;34m]\u001b[0m\u001b[0;34m\u001b[0m\u001b[0m\n\u001b[0m\u001b[1;32m    132\u001b[0m \u001b[0;34m\u001b[0m\u001b[0m\n\u001b[1;32m    133\u001b[0m     \u001b[0;32mdef\u001b[0m \u001b[0m__len__\u001b[0m\u001b[0;34m(\u001b[0m\u001b[0mself\u001b[0m\u001b[0;34m)\u001b[0m\u001b[0;34m:\u001b[0m\u001b[0;34m\u001b[0m\u001b[0m\n",
      "\u001b[0;32m//anaconda/lib/python3.6/site-packages/sklearn/externals/joblib/parallel.py\u001b[0m in \u001b[0;36m<listcomp>\u001b[0;34m(.0)\u001b[0m\n\u001b[1;32m    129\u001b[0m \u001b[0;34m\u001b[0m\u001b[0m\n\u001b[1;32m    130\u001b[0m     \u001b[0;32mdef\u001b[0m \u001b[0m__call__\u001b[0m\u001b[0;34m(\u001b[0m\u001b[0mself\u001b[0m\u001b[0;34m)\u001b[0m\u001b[0;34m:\u001b[0m\u001b[0;34m\u001b[0m\u001b[0m\n\u001b[0;32m--> 131\u001b[0;31m         \u001b[0;32mreturn\u001b[0m \u001b[0;34m[\u001b[0m\u001b[0mfunc\u001b[0m\u001b[0;34m(\u001b[0m\u001b[0;34m*\u001b[0m\u001b[0margs\u001b[0m\u001b[0;34m,\u001b[0m \u001b[0;34m**\u001b[0m\u001b[0mkwargs\u001b[0m\u001b[0;34m)\u001b[0m \u001b[0;32mfor\u001b[0m \u001b[0mfunc\u001b[0m\u001b[0;34m,\u001b[0m \u001b[0margs\u001b[0m\u001b[0;34m,\u001b[0m \u001b[0mkwargs\u001b[0m \u001b[0;32min\u001b[0m \u001b[0mself\u001b[0m\u001b[0;34m.\u001b[0m\u001b[0mitems\u001b[0m\u001b[0;34m]\u001b[0m\u001b[0;34m\u001b[0m\u001b[0m\n\u001b[0m\u001b[1;32m    132\u001b[0m \u001b[0;34m\u001b[0m\u001b[0m\n\u001b[1;32m    133\u001b[0m     \u001b[0;32mdef\u001b[0m \u001b[0m__len__\u001b[0m\u001b[0;34m(\u001b[0m\u001b[0mself\u001b[0m\u001b[0;34m)\u001b[0m\u001b[0;34m:\u001b[0m\u001b[0;34m\u001b[0m\u001b[0m\n",
      "\u001b[0;32m//anaconda/lib/python3.6/site-packages/sklearn/model_selection/_validation.py\u001b[0m in \u001b[0;36m_fit_and_score\u001b[0;34m(estimator, X, y, scorer, train, test, verbose, parameters, fit_params, return_train_score, return_parameters, return_n_test_samples, return_times, error_score)\u001b[0m\n\u001b[1;32m    258\u001b[0m     \u001b[0;32melse\u001b[0m\u001b[0;34m:\u001b[0m\u001b[0;34m\u001b[0m\u001b[0m\n\u001b[1;32m    259\u001b[0m         \u001b[0mfit_time\u001b[0m \u001b[0;34m=\u001b[0m \u001b[0mtime\u001b[0m\u001b[0;34m.\u001b[0m\u001b[0mtime\u001b[0m\u001b[0;34m(\u001b[0m\u001b[0;34m)\u001b[0m \u001b[0;34m-\u001b[0m \u001b[0mstart_time\u001b[0m\u001b[0;34m\u001b[0m\u001b[0m\n\u001b[0;32m--> 260\u001b[0;31m         \u001b[0mtest_score\u001b[0m \u001b[0;34m=\u001b[0m \u001b[0m_score\u001b[0m\u001b[0;34m(\u001b[0m\u001b[0mestimator\u001b[0m\u001b[0;34m,\u001b[0m \u001b[0mX_test\u001b[0m\u001b[0;34m,\u001b[0m \u001b[0my_test\u001b[0m\u001b[0;34m,\u001b[0m \u001b[0mscorer\u001b[0m\u001b[0;34m)\u001b[0m\u001b[0;34m\u001b[0m\u001b[0m\n\u001b[0m\u001b[1;32m    261\u001b[0m         \u001b[0mscore_time\u001b[0m \u001b[0;34m=\u001b[0m \u001b[0mtime\u001b[0m\u001b[0;34m.\u001b[0m\u001b[0mtime\u001b[0m\u001b[0;34m(\u001b[0m\u001b[0;34m)\u001b[0m \u001b[0;34m-\u001b[0m \u001b[0mstart_time\u001b[0m \u001b[0;34m-\u001b[0m \u001b[0mfit_time\u001b[0m\u001b[0;34m\u001b[0m\u001b[0m\n\u001b[1;32m    262\u001b[0m         \u001b[0;32mif\u001b[0m \u001b[0mreturn_train_score\u001b[0m\u001b[0;34m:\u001b[0m\u001b[0;34m\u001b[0m\u001b[0m\n",
      "\u001b[0;32m//anaconda/lib/python3.6/site-packages/sklearn/model_selection/_validation.py\u001b[0m in \u001b[0;36m_score\u001b[0;34m(estimator, X_test, y_test, scorer)\u001b[0m\n\u001b[1;32m    286\u001b[0m         \u001b[0mscore\u001b[0m \u001b[0;34m=\u001b[0m \u001b[0mscorer\u001b[0m\u001b[0;34m(\u001b[0m\u001b[0mestimator\u001b[0m\u001b[0;34m,\u001b[0m \u001b[0mX_test\u001b[0m\u001b[0;34m)\u001b[0m\u001b[0;34m\u001b[0m\u001b[0m\n\u001b[1;32m    287\u001b[0m     \u001b[0;32melse\u001b[0m\u001b[0;34m:\u001b[0m\u001b[0;34m\u001b[0m\u001b[0m\n\u001b[0;32m--> 288\u001b[0;31m         \u001b[0mscore\u001b[0m \u001b[0;34m=\u001b[0m \u001b[0mscorer\u001b[0m\u001b[0;34m(\u001b[0m\u001b[0mestimator\u001b[0m\u001b[0;34m,\u001b[0m \u001b[0mX_test\u001b[0m\u001b[0;34m,\u001b[0m \u001b[0my_test\u001b[0m\u001b[0;34m)\u001b[0m\u001b[0;34m\u001b[0m\u001b[0m\n\u001b[0m\u001b[1;32m    289\u001b[0m     \u001b[0;32mif\u001b[0m \u001b[0mhasattr\u001b[0m\u001b[0;34m(\u001b[0m\u001b[0mscore\u001b[0m\u001b[0;34m,\u001b[0m \u001b[0;34m'item'\u001b[0m\u001b[0;34m)\u001b[0m\u001b[0;34m:\u001b[0m\u001b[0;34m\u001b[0m\u001b[0m\n\u001b[1;32m    290\u001b[0m         \u001b[0;32mtry\u001b[0m\u001b[0;34m:\u001b[0m\u001b[0;34m\u001b[0m\u001b[0m\n",
      "\u001b[0;32m//anaconda/lib/python3.6/site-packages/sklearn/metrics/scorer.py\u001b[0m in \u001b[0;36m_passthrough_scorer\u001b[0;34m(estimator, *args, **kwargs)\u001b[0m\n\u001b[1;32m    217\u001b[0m \u001b[0;32mdef\u001b[0m \u001b[0m_passthrough_scorer\u001b[0m\u001b[0;34m(\u001b[0m\u001b[0mestimator\u001b[0m\u001b[0;34m,\u001b[0m \u001b[0;34m*\u001b[0m\u001b[0margs\u001b[0m\u001b[0;34m,\u001b[0m \u001b[0;34m**\u001b[0m\u001b[0mkwargs\u001b[0m\u001b[0;34m)\u001b[0m\u001b[0;34m:\u001b[0m\u001b[0;34m\u001b[0m\u001b[0m\n\u001b[1;32m    218\u001b[0m     \u001b[0;34m\"\"\"Function that wraps estimator.score\"\"\"\u001b[0m\u001b[0;34m\u001b[0m\u001b[0m\n\u001b[0;32m--> 219\u001b[0;31m     \u001b[0;32mreturn\u001b[0m \u001b[0mestimator\u001b[0m\u001b[0;34m.\u001b[0m\u001b[0mscore\u001b[0m\u001b[0;34m(\u001b[0m\u001b[0;34m*\u001b[0m\u001b[0margs\u001b[0m\u001b[0;34m,\u001b[0m \u001b[0;34m**\u001b[0m\u001b[0mkwargs\u001b[0m\u001b[0;34m)\u001b[0m\u001b[0;34m\u001b[0m\u001b[0m\n\u001b[0m\u001b[1;32m    220\u001b[0m \u001b[0;34m\u001b[0m\u001b[0m\n\u001b[1;32m    221\u001b[0m \u001b[0;34m\u001b[0m\u001b[0m\n",
      "\u001b[0;32m//anaconda/lib/python3.6/site-packages/sklearn/base.py\u001b[0m in \u001b[0;36mscore\u001b[0;34m(self, X, y, sample_weight)\u001b[0m\n\u001b[1;32m    347\u001b[0m         \"\"\"\n\u001b[1;32m    348\u001b[0m         \u001b[0;32mfrom\u001b[0m \u001b[0;34m.\u001b[0m\u001b[0mmetrics\u001b[0m \u001b[0;32mimport\u001b[0m \u001b[0maccuracy_score\u001b[0m\u001b[0;34m\u001b[0m\u001b[0m\n\u001b[0;32m--> 349\u001b[0;31m         \u001b[0;32mreturn\u001b[0m \u001b[0maccuracy_score\u001b[0m\u001b[0;34m(\u001b[0m\u001b[0my\u001b[0m\u001b[0;34m,\u001b[0m \u001b[0mself\u001b[0m\u001b[0;34m.\u001b[0m\u001b[0mpredict\u001b[0m\u001b[0;34m(\u001b[0m\u001b[0mX\u001b[0m\u001b[0;34m)\u001b[0m\u001b[0;34m,\u001b[0m \u001b[0msample_weight\u001b[0m\u001b[0;34m=\u001b[0m\u001b[0msample_weight\u001b[0m\u001b[0;34m)\u001b[0m\u001b[0;34m\u001b[0m\u001b[0m\n\u001b[0m\u001b[1;32m    350\u001b[0m \u001b[0;34m\u001b[0m\u001b[0m\n\u001b[1;32m    351\u001b[0m \u001b[0;34m\u001b[0m\u001b[0m\n",
      "\u001b[0;32m//anaconda/lib/python3.6/site-packages/sklearn/ensemble/forest.py\u001b[0m in \u001b[0;36mpredict\u001b[0;34m(self, X)\u001b[0m\n\u001b[1;32m    532\u001b[0m             \u001b[0mThe\u001b[0m \u001b[0mpredicted\u001b[0m \u001b[0mclasses\u001b[0m\u001b[0;34m.\u001b[0m\u001b[0;34m\u001b[0m\u001b[0m\n\u001b[1;32m    533\u001b[0m         \"\"\"\n\u001b[0;32m--> 534\u001b[0;31m         \u001b[0mproba\u001b[0m \u001b[0;34m=\u001b[0m \u001b[0mself\u001b[0m\u001b[0;34m.\u001b[0m\u001b[0mpredict_proba\u001b[0m\u001b[0;34m(\u001b[0m\u001b[0mX\u001b[0m\u001b[0;34m)\u001b[0m\u001b[0;34m\u001b[0m\u001b[0m\n\u001b[0m\u001b[1;32m    535\u001b[0m \u001b[0;34m\u001b[0m\u001b[0m\n\u001b[1;32m    536\u001b[0m         \u001b[0;32mif\u001b[0m \u001b[0mself\u001b[0m\u001b[0;34m.\u001b[0m\u001b[0mn_outputs_\u001b[0m \u001b[0;34m==\u001b[0m \u001b[0;36m1\u001b[0m\u001b[0;34m:\u001b[0m\u001b[0;34m\u001b[0m\u001b[0m\n",
      "\u001b[0;32m//anaconda/lib/python3.6/site-packages/sklearn/ensemble/forest.py\u001b[0m in \u001b[0;36mpredict_proba\u001b[0;34m(self, X)\u001b[0m\n\u001b[1;32m    571\u001b[0m         \"\"\"\n\u001b[1;32m    572\u001b[0m         \u001b[0;31m# Check data\u001b[0m\u001b[0;34m\u001b[0m\u001b[0;34m\u001b[0m\u001b[0m\n\u001b[0;32m--> 573\u001b[0;31m         \u001b[0mX\u001b[0m \u001b[0;34m=\u001b[0m \u001b[0mself\u001b[0m\u001b[0;34m.\u001b[0m\u001b[0m_validate_X_predict\u001b[0m\u001b[0;34m(\u001b[0m\u001b[0mX\u001b[0m\u001b[0;34m)\u001b[0m\u001b[0;34m\u001b[0m\u001b[0m\n\u001b[0m\u001b[1;32m    574\u001b[0m \u001b[0;34m\u001b[0m\u001b[0m\n\u001b[1;32m    575\u001b[0m         \u001b[0;31m# Assign chunk of trees to jobs\u001b[0m\u001b[0;34m\u001b[0m\u001b[0;34m\u001b[0m\u001b[0m\n",
      "\u001b[0;32m//anaconda/lib/python3.6/site-packages/sklearn/ensemble/forest.py\u001b[0m in \u001b[0;36m_validate_X_predict\u001b[0;34m(self, X)\u001b[0m\n\u001b[1;32m    353\u001b[0m                                  \"call `fit` before exploiting the model.\")\n\u001b[1;32m    354\u001b[0m \u001b[0;34m\u001b[0m\u001b[0m\n\u001b[0;32m--> 355\u001b[0;31m         \u001b[0;32mreturn\u001b[0m \u001b[0mself\u001b[0m\u001b[0;34m.\u001b[0m\u001b[0mestimators_\u001b[0m\u001b[0;34m[\u001b[0m\u001b[0;36m0\u001b[0m\u001b[0;34m]\u001b[0m\u001b[0;34m.\u001b[0m\u001b[0m_validate_X_predict\u001b[0m\u001b[0;34m(\u001b[0m\u001b[0mX\u001b[0m\u001b[0;34m,\u001b[0m \u001b[0mcheck_input\u001b[0m\u001b[0;34m=\u001b[0m\u001b[0;32mTrue\u001b[0m\u001b[0;34m)\u001b[0m\u001b[0;34m\u001b[0m\u001b[0m\n\u001b[0m\u001b[1;32m    356\u001b[0m \u001b[0;34m\u001b[0m\u001b[0m\n\u001b[1;32m    357\u001b[0m     \u001b[0;34m@\u001b[0m\u001b[0mproperty\u001b[0m\u001b[0;34m\u001b[0m\u001b[0m\n",
      "\u001b[0;32m//anaconda/lib/python3.6/site-packages/sklearn/tree/tree.py\u001b[0m in \u001b[0;36m_validate_X_predict\u001b[0;34m(self, X, check_input)\u001b[0m\n\u001b[1;32m    363\u001b[0m \u001b[0;34m\u001b[0m\u001b[0m\n\u001b[1;32m    364\u001b[0m         \u001b[0;32mif\u001b[0m \u001b[0mcheck_input\u001b[0m\u001b[0;34m:\u001b[0m\u001b[0;34m\u001b[0m\u001b[0m\n\u001b[0;32m--> 365\u001b[0;31m             \u001b[0mX\u001b[0m \u001b[0;34m=\u001b[0m \u001b[0mcheck_array\u001b[0m\u001b[0;34m(\u001b[0m\u001b[0mX\u001b[0m\u001b[0;34m,\u001b[0m \u001b[0mdtype\u001b[0m\u001b[0;34m=\u001b[0m\u001b[0mDTYPE\u001b[0m\u001b[0;34m,\u001b[0m \u001b[0maccept_sparse\u001b[0m\u001b[0;34m=\u001b[0m\u001b[0;34m\"csr\"\u001b[0m\u001b[0;34m)\u001b[0m\u001b[0;34m\u001b[0m\u001b[0m\n\u001b[0m\u001b[1;32m    366\u001b[0m             if issparse(X) and (X.indices.dtype != np.intc or\n\u001b[1;32m    367\u001b[0m                                 X.indptr.dtype != np.intc):\n",
      "\u001b[0;32m//anaconda/lib/python3.6/site-packages/sklearn/utils/validation.py\u001b[0m in \u001b[0;36mcheck_array\u001b[0;34m(array, accept_sparse, dtype, order, copy, force_all_finite, ensure_2d, allow_nd, ensure_min_samples, ensure_min_features, warn_on_dtype, estimator)\u001b[0m\n\u001b[1;32m    405\u001b[0m                              % (array.ndim, estimator_name))\n\u001b[1;32m    406\u001b[0m         \u001b[0;32mif\u001b[0m \u001b[0mforce_all_finite\u001b[0m\u001b[0;34m:\u001b[0m\u001b[0;34m\u001b[0m\u001b[0m\n\u001b[0;32m--> 407\u001b[0;31m             \u001b[0m_assert_all_finite\u001b[0m\u001b[0;34m(\u001b[0m\u001b[0marray\u001b[0m\u001b[0;34m)\u001b[0m\u001b[0;34m\u001b[0m\u001b[0m\n\u001b[0m\u001b[1;32m    408\u001b[0m \u001b[0;34m\u001b[0m\u001b[0m\n\u001b[1;32m    409\u001b[0m     \u001b[0mshape_repr\u001b[0m \u001b[0;34m=\u001b[0m \u001b[0m_shape_repr\u001b[0m\u001b[0;34m(\u001b[0m\u001b[0marray\u001b[0m\u001b[0;34m.\u001b[0m\u001b[0mshape\u001b[0m\u001b[0;34m)\u001b[0m\u001b[0;34m\u001b[0m\u001b[0m\n",
      "\u001b[0;32m//anaconda/lib/python3.6/site-packages/sklearn/utils/validation.py\u001b[0m in \u001b[0;36m_assert_all_finite\u001b[0;34m(X)\u001b[0m\n\u001b[1;32m     56\u001b[0m             and not np.isfinite(X).all()):\n\u001b[1;32m     57\u001b[0m         raise ValueError(\"Input contains NaN, infinity\"\n\u001b[0;32m---> 58\u001b[0;31m                          \" or a value too large for %r.\" % X.dtype)\n\u001b[0m\u001b[1;32m     59\u001b[0m \u001b[0;34m\u001b[0m\u001b[0m\n\u001b[1;32m     60\u001b[0m \u001b[0;34m\u001b[0m\u001b[0m\n",
      "\u001b[0;31mValueError\u001b[0m: Input contains NaN, infinity or a value too large for dtype('float32')."
     ]
    }
   ],
   "source": [
    "grid.fit(X, y)"
   ]
  },
  {
   "cell_type": "code",
   "execution_count": 141,
   "metadata": {
    "collapsed": false
   },
   "outputs": [
    {
     "ename": "AttributeError",
     "evalue": "'GridSearchCV' object has no attribute 'best_estimator_'",
     "output_type": "error",
     "traceback": [
      "\u001b[0;31m---------------------------------------------------------------------------\u001b[0m",
      "\u001b[0;31mAttributeError\u001b[0m                            Traceback (most recent call last)",
      "\u001b[0;32m<ipython-input-141-e99d83457cca>\u001b[0m in \u001b[0;36m<module>\u001b[0;34m()\u001b[0m\n\u001b[0;32m----> 1\u001b[0;31m \u001b[0mrfc\u001b[0m \u001b[0;34m=\u001b[0m \u001b[0mgrid\u001b[0m\u001b[0;34m.\u001b[0m\u001b[0mbest_estimator_\u001b[0m\u001b[0;34m\u001b[0m\u001b[0m\n\u001b[0m",
      "\u001b[0;31mAttributeError\u001b[0m: 'GridSearchCV' object has no attribute 'best_estimator_'"
     ]
    }
   ],
   "source": [
    "rfc = grid.best_estimator_"
   ]
  },
  {
   "cell_type": "code",
   "execution_count": 142,
   "metadata": {
    "collapsed": true
   },
   "outputs": [],
   "source": [
    "from sklearn.metrics import confusion_matrix, classification_report\n",
    "from sklearn.model_selection import train_test_split\n",
    "\n",
    "x_train, x_test, y_train, y_test = train_test_split(X, y)"
   ]
  },
  {
   "cell_type": "code",
   "execution_count": 143,
   "metadata": {
    "collapsed": false
   },
   "outputs": [],
   "source": [
    "def run_model(x_train,  x_test, y_train, y_test, model):\n",
    "    model.fit(x_train, y_train)\n",
    "    print(\"Base model score: \" + str(np.mean(y_test))[:6])\n",
    "    print(\"Training set score: \", str(model.score(x_train, y_train))[:6])\n",
    "    print(\"Test set score: \", str(model.score(x_test, y_test))[:6])\n",
    "    thresholds = [.2, .1, .05]\n",
    "    for threshold in thresholds:\n",
    "        probabilities = model.predict_proba(x_test)\n",
    "#         print(probabilities[0:5])\n",
    "        \n",
    "        predictions = [1 if x[1] > threshold else 0 for x in probabilities]\n",
    "        print(\"\\nConfusion Matrix:\\n\", pd.DataFrame(confusion_matrix(y_test, predictions), \n",
    "                                                  columns=['predicted_0', 'predicted_1'], index=['is_0', 'is_1']))\n",
    "        print(\"\\nClassification Report:\\n\",classification_report(y_test, predictions))"
   ]
  },
  {
   "cell_type": "code",
   "execution_count": 144,
   "metadata": {
    "collapsed": false
   },
   "outputs": [
    {
     "name": "stdout",
     "output_type": "stream",
     "text": [
      "Base model score: 0.0488\n",
      "Training set score:  0.9644\n"
     ]
    },
    {
     "ename": "ValueError",
     "evalue": "Input contains NaN, infinity or a value too large for dtype('float32').",
     "output_type": "error",
     "traceback": [
      "\u001b[0;31m---------------------------------------------------------------------------\u001b[0m",
      "\u001b[0;31mValueError\u001b[0m                                Traceback (most recent call last)",
      "\u001b[0;32m<ipython-input-144-dd919239f854>\u001b[0m in \u001b[0;36m<module>\u001b[0;34m()\u001b[0m\n\u001b[0;32m----> 1\u001b[0;31m \u001b[0mrun_model\u001b[0m\u001b[0;34m(\u001b[0m\u001b[0mx_train\u001b[0m\u001b[0;34m,\u001b[0m  \u001b[0mx_test\u001b[0m\u001b[0;34m,\u001b[0m \u001b[0my_train\u001b[0m\u001b[0;34m,\u001b[0m \u001b[0my_test\u001b[0m\u001b[0;34m,\u001b[0m \u001b[0mRandomForestClassifier\u001b[0m\u001b[0;34m(\u001b[0m\u001b[0;34m)\u001b[0m\u001b[0;34m)\u001b[0m\u001b[0;34m\u001b[0m\u001b[0m\n\u001b[0m",
      "\u001b[0;32m<ipython-input-143-6a4f36f1516f>\u001b[0m in \u001b[0;36mrun_model\u001b[0;34m(x_train, x_test, y_train, y_test, model)\u001b[0m\n\u001b[1;32m      3\u001b[0m     \u001b[0mprint\u001b[0m\u001b[0;34m(\u001b[0m\u001b[0;34m\"Base model score: \"\u001b[0m \u001b[0;34m+\u001b[0m \u001b[0mstr\u001b[0m\u001b[0;34m(\u001b[0m\u001b[0mnp\u001b[0m\u001b[0;34m.\u001b[0m\u001b[0mmean\u001b[0m\u001b[0;34m(\u001b[0m\u001b[0my_test\u001b[0m\u001b[0;34m)\u001b[0m\u001b[0;34m)\u001b[0m\u001b[0;34m[\u001b[0m\u001b[0;34m:\u001b[0m\u001b[0;36m6\u001b[0m\u001b[0;34m]\u001b[0m\u001b[0;34m)\u001b[0m\u001b[0;34m\u001b[0m\u001b[0m\n\u001b[1;32m      4\u001b[0m     \u001b[0mprint\u001b[0m\u001b[0;34m(\u001b[0m\u001b[0;34m\"Training set score: \"\u001b[0m\u001b[0;34m,\u001b[0m \u001b[0mstr\u001b[0m\u001b[0;34m(\u001b[0m\u001b[0mmodel\u001b[0m\u001b[0;34m.\u001b[0m\u001b[0mscore\u001b[0m\u001b[0;34m(\u001b[0m\u001b[0mx_train\u001b[0m\u001b[0;34m,\u001b[0m \u001b[0my_train\u001b[0m\u001b[0;34m)\u001b[0m\u001b[0;34m)\u001b[0m\u001b[0;34m[\u001b[0m\u001b[0;34m:\u001b[0m\u001b[0;36m6\u001b[0m\u001b[0;34m]\u001b[0m\u001b[0;34m)\u001b[0m\u001b[0;34m\u001b[0m\u001b[0m\n\u001b[0;32m----> 5\u001b[0;31m     \u001b[0mprint\u001b[0m\u001b[0;34m(\u001b[0m\u001b[0;34m\"Test set score: \"\u001b[0m\u001b[0;34m,\u001b[0m \u001b[0mstr\u001b[0m\u001b[0;34m(\u001b[0m\u001b[0mmodel\u001b[0m\u001b[0;34m.\u001b[0m\u001b[0mscore\u001b[0m\u001b[0;34m(\u001b[0m\u001b[0mx_test\u001b[0m\u001b[0;34m,\u001b[0m \u001b[0my_test\u001b[0m\u001b[0;34m)\u001b[0m\u001b[0;34m)\u001b[0m\u001b[0;34m[\u001b[0m\u001b[0;34m:\u001b[0m\u001b[0;36m6\u001b[0m\u001b[0;34m]\u001b[0m\u001b[0;34m)\u001b[0m\u001b[0;34m\u001b[0m\u001b[0m\n\u001b[0m\u001b[1;32m      6\u001b[0m     \u001b[0mthresholds\u001b[0m \u001b[0;34m=\u001b[0m \u001b[0;34m[\u001b[0m\u001b[0;36m.2\u001b[0m\u001b[0;34m,\u001b[0m \u001b[0;36m.1\u001b[0m\u001b[0;34m,\u001b[0m \u001b[0;36m.05\u001b[0m\u001b[0;34m]\u001b[0m\u001b[0;34m\u001b[0m\u001b[0m\n\u001b[1;32m      7\u001b[0m     \u001b[0;32mfor\u001b[0m \u001b[0mthreshold\u001b[0m \u001b[0;32min\u001b[0m \u001b[0mthresholds\u001b[0m\u001b[0;34m:\u001b[0m\u001b[0;34m\u001b[0m\u001b[0m\n",
      "\u001b[0;32m//anaconda/lib/python3.6/site-packages/sklearn/base.py\u001b[0m in \u001b[0;36mscore\u001b[0;34m(self, X, y, sample_weight)\u001b[0m\n\u001b[1;32m    347\u001b[0m         \"\"\"\n\u001b[1;32m    348\u001b[0m         \u001b[0;32mfrom\u001b[0m \u001b[0;34m.\u001b[0m\u001b[0mmetrics\u001b[0m \u001b[0;32mimport\u001b[0m \u001b[0maccuracy_score\u001b[0m\u001b[0;34m\u001b[0m\u001b[0m\n\u001b[0;32m--> 349\u001b[0;31m         \u001b[0;32mreturn\u001b[0m \u001b[0maccuracy_score\u001b[0m\u001b[0;34m(\u001b[0m\u001b[0my\u001b[0m\u001b[0;34m,\u001b[0m \u001b[0mself\u001b[0m\u001b[0;34m.\u001b[0m\u001b[0mpredict\u001b[0m\u001b[0;34m(\u001b[0m\u001b[0mX\u001b[0m\u001b[0;34m)\u001b[0m\u001b[0;34m,\u001b[0m \u001b[0msample_weight\u001b[0m\u001b[0;34m=\u001b[0m\u001b[0msample_weight\u001b[0m\u001b[0;34m)\u001b[0m\u001b[0;34m\u001b[0m\u001b[0m\n\u001b[0m\u001b[1;32m    350\u001b[0m \u001b[0;34m\u001b[0m\u001b[0m\n\u001b[1;32m    351\u001b[0m \u001b[0;34m\u001b[0m\u001b[0m\n",
      "\u001b[0;32m//anaconda/lib/python3.6/site-packages/sklearn/ensemble/forest.py\u001b[0m in \u001b[0;36mpredict\u001b[0;34m(self, X)\u001b[0m\n\u001b[1;32m    532\u001b[0m             \u001b[0mThe\u001b[0m \u001b[0mpredicted\u001b[0m \u001b[0mclasses\u001b[0m\u001b[0;34m.\u001b[0m\u001b[0;34m\u001b[0m\u001b[0m\n\u001b[1;32m    533\u001b[0m         \"\"\"\n\u001b[0;32m--> 534\u001b[0;31m         \u001b[0mproba\u001b[0m \u001b[0;34m=\u001b[0m \u001b[0mself\u001b[0m\u001b[0;34m.\u001b[0m\u001b[0mpredict_proba\u001b[0m\u001b[0;34m(\u001b[0m\u001b[0mX\u001b[0m\u001b[0;34m)\u001b[0m\u001b[0;34m\u001b[0m\u001b[0m\n\u001b[0m\u001b[1;32m    535\u001b[0m \u001b[0;34m\u001b[0m\u001b[0m\n\u001b[1;32m    536\u001b[0m         \u001b[0;32mif\u001b[0m \u001b[0mself\u001b[0m\u001b[0;34m.\u001b[0m\u001b[0mn_outputs_\u001b[0m \u001b[0;34m==\u001b[0m \u001b[0;36m1\u001b[0m\u001b[0;34m:\u001b[0m\u001b[0;34m\u001b[0m\u001b[0m\n",
      "\u001b[0;32m//anaconda/lib/python3.6/site-packages/sklearn/ensemble/forest.py\u001b[0m in \u001b[0;36mpredict_proba\u001b[0;34m(self, X)\u001b[0m\n\u001b[1;32m    571\u001b[0m         \"\"\"\n\u001b[1;32m    572\u001b[0m         \u001b[0;31m# Check data\u001b[0m\u001b[0;34m\u001b[0m\u001b[0;34m\u001b[0m\u001b[0m\n\u001b[0;32m--> 573\u001b[0;31m         \u001b[0mX\u001b[0m \u001b[0;34m=\u001b[0m \u001b[0mself\u001b[0m\u001b[0;34m.\u001b[0m\u001b[0m_validate_X_predict\u001b[0m\u001b[0;34m(\u001b[0m\u001b[0mX\u001b[0m\u001b[0;34m)\u001b[0m\u001b[0;34m\u001b[0m\u001b[0m\n\u001b[0m\u001b[1;32m    574\u001b[0m \u001b[0;34m\u001b[0m\u001b[0m\n\u001b[1;32m    575\u001b[0m         \u001b[0;31m# Assign chunk of trees to jobs\u001b[0m\u001b[0;34m\u001b[0m\u001b[0;34m\u001b[0m\u001b[0m\n",
      "\u001b[0;32m//anaconda/lib/python3.6/site-packages/sklearn/ensemble/forest.py\u001b[0m in \u001b[0;36m_validate_X_predict\u001b[0;34m(self, X)\u001b[0m\n\u001b[1;32m    353\u001b[0m                                  \"call `fit` before exploiting the model.\")\n\u001b[1;32m    354\u001b[0m \u001b[0;34m\u001b[0m\u001b[0m\n\u001b[0;32m--> 355\u001b[0;31m         \u001b[0;32mreturn\u001b[0m \u001b[0mself\u001b[0m\u001b[0;34m.\u001b[0m\u001b[0mestimators_\u001b[0m\u001b[0;34m[\u001b[0m\u001b[0;36m0\u001b[0m\u001b[0;34m]\u001b[0m\u001b[0;34m.\u001b[0m\u001b[0m_validate_X_predict\u001b[0m\u001b[0;34m(\u001b[0m\u001b[0mX\u001b[0m\u001b[0;34m,\u001b[0m \u001b[0mcheck_input\u001b[0m\u001b[0;34m=\u001b[0m\u001b[0;32mTrue\u001b[0m\u001b[0;34m)\u001b[0m\u001b[0;34m\u001b[0m\u001b[0m\n\u001b[0m\u001b[1;32m    356\u001b[0m \u001b[0;34m\u001b[0m\u001b[0m\n\u001b[1;32m    357\u001b[0m     \u001b[0;34m@\u001b[0m\u001b[0mproperty\u001b[0m\u001b[0;34m\u001b[0m\u001b[0m\n",
      "\u001b[0;32m//anaconda/lib/python3.6/site-packages/sklearn/tree/tree.py\u001b[0m in \u001b[0;36m_validate_X_predict\u001b[0;34m(self, X, check_input)\u001b[0m\n\u001b[1;32m    363\u001b[0m \u001b[0;34m\u001b[0m\u001b[0m\n\u001b[1;32m    364\u001b[0m         \u001b[0;32mif\u001b[0m \u001b[0mcheck_input\u001b[0m\u001b[0;34m:\u001b[0m\u001b[0;34m\u001b[0m\u001b[0m\n\u001b[0;32m--> 365\u001b[0;31m             \u001b[0mX\u001b[0m \u001b[0;34m=\u001b[0m \u001b[0mcheck_array\u001b[0m\u001b[0;34m(\u001b[0m\u001b[0mX\u001b[0m\u001b[0;34m,\u001b[0m \u001b[0mdtype\u001b[0m\u001b[0;34m=\u001b[0m\u001b[0mDTYPE\u001b[0m\u001b[0;34m,\u001b[0m \u001b[0maccept_sparse\u001b[0m\u001b[0;34m=\u001b[0m\u001b[0;34m\"csr\"\u001b[0m\u001b[0;34m)\u001b[0m\u001b[0;34m\u001b[0m\u001b[0m\n\u001b[0m\u001b[1;32m    366\u001b[0m             if issparse(X) and (X.indices.dtype != np.intc or\n\u001b[1;32m    367\u001b[0m                                 X.indptr.dtype != np.intc):\n",
      "\u001b[0;32m//anaconda/lib/python3.6/site-packages/sklearn/utils/validation.py\u001b[0m in \u001b[0;36mcheck_array\u001b[0;34m(array, accept_sparse, dtype, order, copy, force_all_finite, ensure_2d, allow_nd, ensure_min_samples, ensure_min_features, warn_on_dtype, estimator)\u001b[0m\n\u001b[1;32m    405\u001b[0m                              % (array.ndim, estimator_name))\n\u001b[1;32m    406\u001b[0m         \u001b[0;32mif\u001b[0m \u001b[0mforce_all_finite\u001b[0m\u001b[0;34m:\u001b[0m\u001b[0;34m\u001b[0m\u001b[0m\n\u001b[0;32m--> 407\u001b[0;31m             \u001b[0m_assert_all_finite\u001b[0m\u001b[0;34m(\u001b[0m\u001b[0marray\u001b[0m\u001b[0;34m)\u001b[0m\u001b[0;34m\u001b[0m\u001b[0m\n\u001b[0m\u001b[1;32m    408\u001b[0m \u001b[0;34m\u001b[0m\u001b[0m\n\u001b[1;32m    409\u001b[0m     \u001b[0mshape_repr\u001b[0m \u001b[0;34m=\u001b[0m \u001b[0m_shape_repr\u001b[0m\u001b[0;34m(\u001b[0m\u001b[0marray\u001b[0m\u001b[0;34m.\u001b[0m\u001b[0mshape\u001b[0m\u001b[0;34m)\u001b[0m\u001b[0;34m\u001b[0m\u001b[0m\n",
      "\u001b[0;32m//anaconda/lib/python3.6/site-packages/sklearn/utils/validation.py\u001b[0m in \u001b[0;36m_assert_all_finite\u001b[0;34m(X)\u001b[0m\n\u001b[1;32m     56\u001b[0m             and not np.isfinite(X).all()):\n\u001b[1;32m     57\u001b[0m         raise ValueError(\"Input contains NaN, infinity\"\n\u001b[0;32m---> 58\u001b[0;31m                          \" or a value too large for %r.\" % X.dtype)\n\u001b[0m\u001b[1;32m     59\u001b[0m \u001b[0;34m\u001b[0m\u001b[0m\n\u001b[1;32m     60\u001b[0m \u001b[0;34m\u001b[0m\u001b[0m\n",
      "\u001b[0;31mValueError\u001b[0m: Input contains NaN, infinity or a value too large for dtype('float32')."
     ]
    }
   ],
   "source": [
    "run_model(x_train,  x_test, y_train, y_test, RandomForestClassifier())"
   ]
  },
  {
   "cell_type": "code",
   "execution_count": null,
   "metadata": {
    "collapsed": true
   },
   "outputs": [],
   "source": []
  },
  {
   "cell_type": "code",
   "execution_count": null,
   "metadata": {
    "collapsed": true
   },
   "outputs": [],
   "source": []
  },
  {
   "cell_type": "code",
   "execution_count": null,
   "metadata": {
    "collapsed": true
   },
   "outputs": [],
   "source": []
  },
  {
   "cell_type": "code",
   "execution_count": 74,
   "metadata": {
    "collapsed": true
   },
   "outputs": [],
   "source": [
    "from sklearn.metrics import recall_score, make_scorer"
   ]
  },
  {
   "cell_type": "code",
   "execution_count": 77,
   "metadata": {
    "collapsed": false
   },
   "outputs": [],
   "source": [
    "grid_recall = GridSearchCV(RandomForestClassifier(), param_grid=params, scoring=make_scorer(recall_score), verbose=10)"
   ]
  },
  {
   "cell_type": "code",
   "execution_count": 78,
   "metadata": {
    "collapsed": false
   },
   "outputs": [
    {
     "name": "stdout",
     "output_type": "stream",
     "text": [
      "Fitting 3 folds for each of 1 candidates, totalling 3 fits\n",
      "[CV] n_estimators=100 ................................................\n",
      "[CV] ................. n_estimators=100, score=0.007621, total=   3.4s\n",
      "[CV] n_estimators=100 ................................................\n"
     ]
    },
    {
     "name": "stderr",
     "output_type": "stream",
     "text": [
      "[Parallel(n_jobs=1)]: Done   1 out of   1 | elapsed:    4.2s remaining:    0.0s\n"
     ]
    },
    {
     "name": "stdout",
     "output_type": "stream",
     "text": [
      "[CV] ................. n_estimators=100, score=0.014395, total=   3.2s\n",
      "[CV] n_estimators=100 ................................................\n"
     ]
    },
    {
     "name": "stderr",
     "output_type": "stream",
     "text": [
      "[Parallel(n_jobs=1)]: Done   2 out of   2 | elapsed:    8.2s remaining:    0.0s\n"
     ]
    },
    {
     "name": "stdout",
     "output_type": "stream",
     "text": [
      "[CV] ................. n_estimators=100, score=0.015241, total=   3.4s\n"
     ]
    },
    {
     "name": "stderr",
     "output_type": "stream",
     "text": [
      "[Parallel(n_jobs=1)]: Done   3 out of   3 | elapsed:   12.3s remaining:    0.0s\n",
      "[Parallel(n_jobs=1)]: Done   3 out of   3 | elapsed:   12.3s finished\n"
     ]
    },
    {
     "data": {
      "text/plain": [
       "GridSearchCV(cv=None, error_score='raise',\n",
       "       estimator=RandomForestClassifier(bootstrap=True, class_weight=None, criterion='gini',\n",
       "            max_depth=None, max_features='auto', max_leaf_nodes=None,\n",
       "            min_impurity_split=1e-07, min_samples_leaf=1,\n",
       "            min_samples_split=2, min_weight_fraction_leaf=0.0,\n",
       "            n_estimators=10, n_jobs=1, oob_score=False, random_state=None,\n",
       "            verbose=0, warm_start=False),\n",
       "       fit_params={}, iid=True, n_jobs=1,\n",
       "       param_grid={'n_estimators': [100]}, pre_dispatch='2*n_jobs',\n",
       "       refit=True, return_train_score=True,\n",
       "       scoring=make_scorer(recall_score), verbose=10)"
      ]
     },
     "execution_count": 78,
     "metadata": {},
     "output_type": "execute_result"
    }
   ],
   "source": [
    "grid_recall.fit(x_train, y_train)"
   ]
  },
  {
   "cell_type": "code",
   "execution_count": null,
   "metadata": {
    "collapsed": true
   },
   "outputs": [],
   "source": []
  }
 ],
 "metadata": {
  "kernelspec": {
   "display_name": "Python 3",
   "language": "python",
   "name": "python3"
  },
  "language_info": {
   "codemirror_mode": {
    "name": "ipython",
    "version": 3
   },
   "file_extension": ".py",
   "mimetype": "text/x-python",
   "name": "python",
   "nbconvert_exporter": "python",
   "pygments_lexer": "ipython3",
   "version": "3.6.0"
  }
 },
 "nbformat": 4,
 "nbformat_minor": 2
}
